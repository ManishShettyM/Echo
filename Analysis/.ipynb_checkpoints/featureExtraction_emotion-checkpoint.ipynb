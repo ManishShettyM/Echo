{
 "cells": [
  {
   "cell_type": "code",
   "execution_count": 1,
   "metadata": {},
   "outputs": [],
   "source": [
    "import os\n",
    "import librosa\n",
    "import numpy as np\n",
    "import pandas as pd"
   ]
  },
  {
   "cell_type": "code",
   "execution_count": 2,
   "metadata": {},
   "outputs": [],
   "source": [
    "path = \"../Dataset/Audio_Speech_Actors_01-24\"\n",
    "neutralFiles = []\n",
    "calmFiles = []\n",
    "happyFiles = []\n",
    "sadFiles = []\n",
    "angryFiles = []\n",
    "fearfulFiles = []\n",
    "disgustFiles = []\n",
    "surprisedFiles = []\n",
    "for root,dirs,files in os.walk(path):\n",
    "    if(len(files)>0):\n",
    "        for file in files:\n",
    "            if(int(file.split(\".\")[0].split(\"-\")[2]) == 1):\n",
    "                neutralFiles.append(root+\"/\"+file)\n",
    "            elif(int(file.split(\".\")[0].split(\"-\")[2]) == 2):\n",
    "                calmFiles.append(root+\"/\"+file)\n",
    "            elif(int(file.split(\".\")[0].split(\"-\")[2]) == 3):\n",
    "                happyFiles.append(root+\"/\"+file)\n",
    "            elif(int(file.split(\".\")[0].split(\"-\")[2]) == 4):\n",
    "                sadFiles.append(root+\"/\"+file)\n",
    "            elif(int(file.split(\".\")[0].split(\"-\")[2]) == 5):\n",
    "                angryFiles.append(root+\"/\"+file)\n",
    "            elif(int(file.split(\".\")[0].split(\"-\")[2]) == 6):\n",
    "                fearfulFiles.append(root+\"/\"+file)\n",
    "            elif(int(file.split(\".\")[0].split(\"-\")[2]) == 7):\n",
    "                disgustFiles.append(root+\"/\"+file)\n",
    "            elif(int(file.split(\".\")[0].split(\"-\")[2]) == 8):\n",
    "                surprisedFiles.append(root+\"/\"+file)"
   ]
  },
  {
   "cell_type": "code",
   "execution_count": 3,
   "metadata": {},
   "outputs": [
    {
     "name": "stdout",
     "output_type": "stream",
     "text": [
      "96\n",
      "192\n",
      "192\n",
      "192\n",
      "192\n",
      "192\n",
      "192\n",
      "192\n"
     ]
    }
   ],
   "source": [
    "print(len(neutralFiles))\n",
    "print(len(calmFiles))\n",
    "print(len(happyFiles))\n",
    "print(len(sadFiles))\n",
    "print(len(angryFiles))\n",
    "print(len(fearfulFiles))\n",
    "print(len(disgustFiles))\n",
    "print(len(surprisedFiles))"
   ]
  },
  {
   "cell_type": "code",
   "execution_count": 4,
   "metadata": {},
   "outputs": [],
   "source": [
    "def extractFeatures(files):\n",
    "    MFCC = []\n",
    "    for file in files:\n",
    "        X, sample_rate = librosa.load(file,sr=8000)\n",
    "        MFCC.append(np.mean(librosa.feature.mfcc(y=X,sr=2000,n_mfcc=20).T,axis=0))\n",
    "    return MFCC"
   ]
  },
  {
   "cell_type": "code",
   "execution_count": 5,
   "metadata": {},
   "outputs": [],
   "source": [
    "neutralMFCC = extractFeatures(neutralFiles)\n",
    "calmMFCC = extractFeatures(calmFiles)\n",
    "happyMFCC = extractFeatures(happyFiles)\n",
    "sadMFCC = extractFeatures(sadFiles)\n",
    "angryMFCC = extractFeatures(angryFiles)\n",
    "fearfulMFCC = extractFeatures(fearfulFiles)\n",
    "disgustMFCC = extractFeatures(disgustFiles)\n",
    "surprisedMFCC = extractFeatures(surprisedFiles)"
   ]
  },
  {
   "cell_type": "code",
   "execution_count": 6,
   "metadata": {},
   "outputs": [
    {
     "name": "stdout",
     "output_type": "stream",
     "text": [
      "96\n",
      "192\n",
      "192\n",
      "192\n",
      "192\n",
      "192\n",
      "192\n",
      "192\n"
     ]
    }
   ],
   "source": [
    "print(len(neutralMFCC))\n",
    "print(len(calmMFCC))\n",
    "print(len(happyMFCC))\n",
    "print(len(sadMFCC))\n",
    "print(len(angryMFCC))\n",
    "print(len(fearfulMFCC))\n",
    "print(len(disgustMFCC))\n",
    "print(len(surprisedMFCC))"
   ]
  },
  {
   "cell_type": "code",
   "execution_count": 7,
   "metadata": {},
   "outputs": [],
   "source": [
    "for i in range(0,len(neutralMFCC)):\n",
    "    neutralMFCC[i] = np.append(neutralMFCC[i],1)"
   ]
  },
  {
   "cell_type": "code",
   "execution_count": 8,
   "metadata": {},
   "outputs": [],
   "source": [
    "for i in range(0,len(calmMFCC)):\n",
    "    calmMFCC[i] = np.append(calmMFCC[i],2)\n",
    "    happyMFCC[i] = np.append(happyMFCC[i],3)\n",
    "    sadMFCC[i] = np.append(sadMFCC[i],4)\n",
    "    angryMFCC[i] = np.append(angryMFCC[i],5)\n",
    "    fearfulMFCC[i] = np.append(fearfulMFCC[i],6)\n",
    "    disgustMFCC[i] = np.append(disgustMFCC[i],7)\n",
    "    surprisedMFCC[i] = np.append(surprisedMFCC[i],8)"
   ]
  },
  {
   "cell_type": "code",
   "execution_count": 9,
   "metadata": {},
   "outputs": [],
   "source": [
    "mfccList = neutralMFCC + calmMFCC + happyMFCC + sadMFCC + angryMFCC + fearfulMFCC + disgustMFCC + surprisedMFCC"
   ]
  },
  {
   "cell_type": "code",
   "execution_count": 10,
   "metadata": {},
   "outputs": [],
   "source": [
    "df = pd.DataFrame(mfccList)"
   ]
  },
  {
   "cell_type": "code",
   "execution_count": 11,
   "metadata": {},
   "outputs": [],
   "source": [
    "columns = []\n",
    "for i in range(0,20):\n",
    "    columns.append('feature'+str(i+1))\n",
    "columns.append('label')"
   ]
  },
  {
   "cell_type": "code",
   "execution_count": 12,
   "metadata": {},
   "outputs": [],
   "source": [
    "df.columns = columns"
   ]
  },
  {
   "cell_type": "code",
   "execution_count": 13,
   "metadata": {},
   "outputs": [],
   "source": [
    "df.to_csv(\"mfccFeatures_emotion.csv\")"
   ]
  }
 ],
 "metadata": {
  "kernelspec": {
   "display_name": "Python 3",
   "language": "python",
   "name": "python3"
  },
  "language_info": {
   "codemirror_mode": {
    "name": "ipython",
    "version": 3
   },
   "file_extension": ".py",
   "mimetype": "text/x-python",
   "name": "python",
   "nbconvert_exporter": "python",
   "pygments_lexer": "ipython3",
   "version": "3.6.8"
  }
 },
 "nbformat": 4,
 "nbformat_minor": 2
}
