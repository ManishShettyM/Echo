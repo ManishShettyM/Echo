{
 "cells": [
  {
   "cell_type": "code",
   "execution_count": 9,
   "metadata": {},
   "outputs": [],
   "source": [
    "from sklearn.metrics import confusion_matrix \n",
    "from sklearn.model_selection import train_test_split \n",
    "from sklearn.naive_bayes import GaussianNB\n",
    "import pandas as pd"
   ]
  },
  {
   "cell_type": "code",
   "execution_count": 10,
   "metadata": {},
   "outputs": [],
   "source": [
    "df = pd.read_csv(\"mfccFeatures_emotion.csv\")\n",
    "# print(set(df.label))"
   ]
  },
  {
   "cell_type": "code",
   "execution_count": 11,
   "metadata": {},
   "outputs": [],
   "source": [
    "from sklearn.utils import shuffle\n",
    "df = shuffle(df)"
   ]
  },
  {
   "cell_type": "code",
   "execution_count": 12,
   "metadata": {},
   "outputs": [
    {
     "name": "stdout",
     "output_type": "stream",
     "text": [
      "Index(['Unnamed: 0', 'feature1', 'feature2', 'feature3', 'feature4',\n",
      "       'feature5', 'feature6', 'feature7', 'feature8', 'feature9', 'feature10',\n",
      "       'feature11', 'feature12', 'feature13', 'label'],\n",
      "      dtype='object')\n"
     ]
    }
   ],
   "source": [
    "print(df.columns)"
   ]
  },
  {
   "cell_type": "code",
   "execution_count": 13,
   "metadata": {},
   "outputs": [],
   "source": [
    "X = df[df.columns[1:14]]\n",
    "y = df[df.columns[14]]\n",
    "\n",
    "X_train, X_test, y_train, y_test = train_test_split(X, y, random_state = 0)\n",
    "\n",
    "# print(y_train)"
   ]
  },
  {
   "cell_type": "markdown",
   "metadata": {},
   "source": [
    "## Naive Bayes"
   ]
  },
  {
   "cell_type": "code",
   "execution_count": 14,
   "metadata": {},
   "outputs": [
    {
     "name": "stdout",
     "output_type": "stream",
     "text": [
      "0.3138888888888889\n",
      "[[ 8  7  0  0  0  0  1  8]\n",
      " [11 24  0  0  0  0  5 12]\n",
      " [ 9  4  7  1  3  6  3 13]\n",
      " [ 8 10  4  9  1  2  4 10]\n",
      " [ 2  0  2  0 22  5  5  8]\n",
      " [ 6  5  4  0  9 15  6  9]\n",
      " [ 3 12  2  0  4  2  6  7]\n",
      " [ 6  5  4  1  4  4 10 22]]\n"
     ]
    }
   ],
   "source": [
    "gnb = GaussianNB().fit(X_train, y_train) \n",
    "gnb_predictions = gnb.predict(X_test) \n",
    "  \n",
    "# accuracy on X_test \n",
    "accuracy = gnb.score(X_test, y_test) \n",
    "print(accuracy) \n",
    "  \n",
    "# creating a confusion matrix \n",
    "cm = confusion_matrix(y_test, gnb_predictions)\n",
    "print(cm)"
   ]
  },
  {
   "cell_type": "markdown",
   "metadata": {},
   "source": [
    "## KNN"
   ]
  },
  {
   "cell_type": "code",
   "execution_count": 15,
   "metadata": {},
   "outputs": [
    {
     "name": "stdout",
     "output_type": "stream",
     "text": [
      "0.40555555555555556\n",
      "[[10 11  0  2  0  0  0  1]\n",
      " [11 32  0  7  0  1  1  0]\n",
      " [ 3  1 24  1  4  3  3  7]\n",
      " [ 8  5  3 19  2  1  7  3]\n",
      " [ 1  0  6  1 24  2  5  5]\n",
      " [ 1  4  3  5 12 19  5  5]\n",
      " [ 2  5  5  3  3  6  4  8]\n",
      " [ 2  3  8  5  6  7 11 14]]\n"
     ]
    }
   ],
   "source": [
    "from sklearn.neighbors import KNeighborsClassifier \n",
    "\n",
    "knn = KNeighborsClassifier(n_neighbors = 7).fit(X_train, y_train) \n",
    "  \n",
    "# accuracy on X_test \n",
    "accuracy = knn.score(X_test, y_test) \n",
    "print(accuracy) \n",
    "  \n",
    "# creating a confusion matrix \n",
    "knn_predictions = knn.predict(X_test)  \n",
    "cm = confusion_matrix(y_test, knn_predictions) \n",
    "print(cm)"
   ]
  },
  {
   "cell_type": "markdown",
   "metadata": {},
   "source": [
    "## Decision Tree"
   ]
  },
  {
   "cell_type": "code",
   "execution_count": 16,
   "metadata": {},
   "outputs": [
    {
     "name": "stdout",
     "output_type": "stream",
     "text": [
      "0.36944444444444446\n",
      "[[ 2 11  1  5  0  1  1  3]\n",
      " [ 4 29  1  6  0  3  6  3]\n",
      " [ 1  2 19  3  3 10  4  4]\n",
      " [ 4  6  6 18  1  5  2  6]\n",
      " [ 0  0  9  4 18  4  5  4]\n",
      " [ 0  2  7  9  6 15  7  8]\n",
      " [ 1  2  3  5  3  3 12  7]\n",
      " [ 2  3  8  1  6  9  7 20]]\n"
     ]
    }
   ],
   "source": [
    "from sklearn.tree import DecisionTreeClassifier \n",
    "dtree_model = DecisionTreeClassifier(max_depth = 18).fit(X_train, y_train) \n",
    "dtree_predictions = dtree_model.predict(X_test)\n",
    "\n",
    "accuracy = dtree_model.score(X_test, y_test)\n",
    "print(accuracy)\n",
    "  \n",
    "# creating a confusion matrix \n",
    "cm = confusion_matrix(y_test, dtree_predictions)\n",
    "print(cm)"
   ]
  },
  {
   "cell_type": "code",
   "execution_count": null,
   "metadata": {},
   "outputs": [],
   "source": [
    "from sklearn.ensemble import AdaBoostClassifier\n",
    "from sklearn.tree import DecisionTreeClassifier\n",
    "adaboost = AdaBoostClassifier(\n",
    "    DecisionTreeClassifier(max_depth=2),\n",
    "    learning_rate=1.5,\n",
    "    n_estimators=10)\n",
    "model = adaboost.fit(X_train,y_train)\n",
    "\n",
    "accuracy = model.score(X_test, y_test)\n",
    "print(accuracy)\n",
    "  \n",
    "# creating a confusion matrix \n",
    "cm = confusion_matrix(y_test, dtree_predictions)\n",
    "print(cm)"
   ]
  },
  {
   "cell_type": "code",
   "execution_count": null,
   "metadata": {},
   "outputs": [],
   "source": []
  },
  {
   "cell_type": "code",
   "execution_count": null,
   "metadata": {},
   "outputs": [],
   "source": []
  }
 ],
 "metadata": {
  "kernelspec": {
   "display_name": "Python 3",
   "language": "python",
   "name": "python3"
  },
  "language_info": {
   "codemirror_mode": {
    "name": "ipython",
    "version": 3
   },
   "file_extension": ".py",
   "mimetype": "text/x-python",
   "name": "python",
   "nbconvert_exporter": "python",
   "pygments_lexer": "ipython3",
   "version": "3.5.2"
  }
 },
 "nbformat": 4,
 "nbformat_minor": 2
}
