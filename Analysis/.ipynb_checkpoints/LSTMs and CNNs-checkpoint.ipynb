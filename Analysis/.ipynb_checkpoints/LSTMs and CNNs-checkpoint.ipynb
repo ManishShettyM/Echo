{
 "cells": [
  {
   "cell_type": "code",
   "execution_count": 1,
   "metadata": {},
   "outputs": [],
   "source": [
    "import numpy as np \n",
    "import pandas as pd \n",
    "import os\n",
    "import matplotlib.pyplot as plt"
   ]
  },
  {
   "cell_type": "code",
   "execution_count": 2,
   "metadata": {},
   "outputs": [
    {
     "name": "stderr",
     "output_type": "stream",
     "text": [
      "Using TensorFlow backend.\n"
     ]
    }
   ],
   "source": [
    "import librosa\n",
    "import wave\n",
    "import keras\n",
    "from keras.utils import to_categorical\n",
    "from keras.models import Sequential\n",
    "from keras.layers import *\n",
    "from keras.optimizers import rmsprop"
   ]
  },
  {
   "cell_type": "code",
   "execution_count": 3,
   "metadata": {},
   "outputs": [],
   "source": [
    "def extract_mfcc(wav_file_name):\n",
    "    '''This function extracts mfcc features and obtain the mean of each dimension\n",
    "    Input : path_to_wav_file\n",
    "    Output: mfcc_features'''\n",
    "    y, sr = librosa.load(wav_file_name)\n",
    "    mfccs = np.mean(librosa.feature.mfcc(y=y, sr=sr, n_mfcc=40).T,axis=0)\n",
    "    return mfccs"
   ]
  },
  {
   "cell_type": "code",
   "execution_count": 5,
   "metadata": {},
   "outputs": [],
   "source": [
    "##### load radvess speech data #####\n",
    "root_dir = \"../Dataset/Audio_Speech_Actors_01-24\"\n",
    "radvess_speech_labels = []\n",
    "ravdess_speech_data = []\n",
    "for actor_dir in sorted(os.listdir(root_dir)):\n",
    "    actor_name = os.path.join(root_dir, actor_dir)\n",
    "    for file in os.listdir(actor_name):\n",
    "        radvess_speech_labels.append(int(file[7:8]) - 1)\n",
    "        wav_file_name = os.path.join(root_dir, actor_dir, file)\n",
    "        ravdess_speech_data.append(extract_mfcc(wav_file_name))"
   ]
  },
  {
   "cell_type": "code",
   "execution_count": 6,
   "metadata": {},
   "outputs": [
    {
     "data": {
      "text/plain": [
       "(1440,)"
      ]
     },
     "execution_count": 6,
     "metadata": {},
     "output_type": "execute_result"
    }
   ],
   "source": [
    "ravdess_speech_data_array = np.asarray(ravdess_speech_data)\n",
    "ravdess_speech_label_array = np.array(radvess_speech_labels)\n",
    "ravdess_speech_label_array.shape"
   ]
  },
  {
   "cell_type": "code",
   "execution_count": 13,
   "metadata": {},
   "outputs": [],
   "source": [
    "### load RAVDESS song data\n",
    "root_dir = \"../Dataset/Audio_Song_Actors_01-24\"\n",
    "radvess_song_labels = []\n",
    "ravdess_song_data = []\n",
    "for actor_dir in sorted(os.listdir(root_dir)):\n",
    "    actor_name = os.path.join(root_dir, actor_dir)\n",
    "    for file in os.listdir(actor_name):\n",
    "        radvess_song_labels.append(int(file[7:8]) - 1)\n",
    "        wav_file_name = os.path.join(root_dir, actor_dir, file)\n",
    "        ravdess_song_data.append(extract_mfcc(wav_file_name))"
   ]
  },
  {
   "cell_type": "code",
   "execution_count": 14,
   "metadata": {},
   "outputs": [
    {
     "data": {
      "text/plain": [
       "(1012,)"
      ]
     },
     "execution_count": 14,
     "metadata": {},
     "output_type": "execute_result"
    }
   ],
   "source": [
    "ravdess_song_data_array = np.asarray(ravdess_song_data)\n",
    "ravdess_song_label_array = np.array(radvess_song_labels)\n",
    "ravdess_song_label_array.shape"
   ]
  },
  {
   "cell_type": "code",
   "execution_count": 15,
   "metadata": {},
   "outputs": [
    {
     "data": {
      "text/plain": [
       "(2452,)"
      ]
     },
     "execution_count": 15,
     "metadata": {},
     "output_type": "execute_result"
    }
   ],
   "source": [
    "data = np.r_[ravdess_speech_data_array, ravdess_song_data_array]\n",
    "labels = np.r_[ravdess_speech_label_array, ravdess_song_label_array]\n",
    "# data = ravdess_speech_data_array\n",
    "# labels = ravdess_speech_label_array\n",
    "labels.shape"
   ]
  },
  {
   "cell_type": "code",
   "execution_count": 16,
   "metadata": {},
   "outputs": [
    {
     "data": {
      "image/png": "[encoded data removed]",
      "text/plain": [
       "<Figure size 432x288 with 1 Axes>"
      ]
     },
     "metadata": {},
     "output_type": "display_data"
    }
   ],
   "source": [
    "import matplotlib.pyplot as plt\n",
    "plt.hist(labels)\n",
    "plt.show()"
   ]
  },
  {
   "cell_type": "code",
   "execution_count": 17,
   "metadata": {},
   "outputs": [
    {
     "data": {
      "text/plain": [
       "(2452, 8)"
      ]
     },
     "execution_count": 17,
     "metadata": {},
     "output_type": "execute_result"
    }
   ],
   "source": [
    "labels_categorical = to_categorical(labels)\n",
    "data.shape\n",
    "labels_categorical.shape"
   ]
  },
  {
   "cell_type": "code",
   "execution_count": 18,
   "metadata": {},
   "outputs": [],
   "source": [
    "def create_model_LSTM():\n",
    "    ### LSTM model, referred to the model A in the report\n",
    "    model = Sequential()\n",
    "    model.add(LSTM(128, return_sequences=False, input_shape=(40, 1)))\n",
    "    model.add(Dense(64))\n",
    "    model.add(Dropout(0.4))\n",
    "    model.add(Activation('relu'))\n",
    "    model.add(Dense(32))\n",
    "    model.add(Dropout(0.4))\n",
    "    model.add(Activation('relu'))\n",
    "    model.add(Dense(8))\n",
    "    model.add(Activation('softmax'))\n",
    "\n",
    "    model.compile(loss='categorical_crossentropy', optimizer='Adam', metrics=['accuracy'])\n",
    "    return model"
   ]
  },
  {
   "cell_type": "code",
   "execution_count": 24,
   "metadata": {},
   "outputs": [],
   "source": [
    "number_of_samples = data.shape[0]\n",
    "training_samples = int(number_of_samples * 0.9)\n",
    "validation_samples = int(number_of_samples * 0.05)\n",
    "test_samples = int(number_of_samples * 0.05)"
   ]
  },
  {
   "cell_type": "code",
   "execution_count": 25,
   "metadata": {},
   "outputs": [
    {
     "name": "stdout",
     "output_type": "stream",
     "text": [
      "Train on 2206 samples, validate on 122 samples\n",
      "Epoch 1/100\n",
      "2206/2206 [==============================] - 3s 1ms/step - loss: 2.0478 - acc: 0.1451 - val_loss: 1.8962 - val_acc: 0.1803\n",
      "Epoch 2/100\n",
      "2206/2206 [==============================] - 3s 1ms/step - loss: 2.0143 - acc: 0.1709 - val_loss: 1.8148 - val_acc: 0.2869\n",
      "Epoch 3/100\n",
      "2206/2206 [==============================] - 3s 1ms/step - loss: 1.9922 - acc: 0.1927 - val_loss: 1.7404 - val_acc: 0.2869\n",
      "Epoch 4/100\n",
      "2206/2206 [==============================] - 3s 1ms/step - loss: 1.9355 - acc: 0.2239 - val_loss: 1.6782 - val_acc: 0.3443\n",
      "Epoch 5/100\n",
      "2206/2206 [==============================] - 3s 1ms/step - loss: 1.8695 - acc: 0.2475 - val_loss: 1.5243 - val_acc: 0.4098\n",
      "Epoch 6/100\n",
      "2206/2206 [==============================] - 3s 1ms/step - loss: 1.8238 - acc: 0.2756 - val_loss: 1.5022 - val_acc: 0.4180\n",
      "Epoch 7/100\n",
      "2206/2206 [==============================] - 3s 1ms/step - loss: 1.7853 - acc: 0.2851 - val_loss: 1.3349 - val_acc: 0.4344\n",
      "Epoch 8/100\n",
      "2206/2206 [==============================] - 3s 1ms/step - loss: 1.7349 - acc: 0.3182 - val_loss: 1.3900 - val_acc: 0.4836\n",
      "Epoch 9/100\n",
      "2206/2206 [==============================] - 3s 1ms/step - loss: 1.6933 - acc: 0.3323 - val_loss: 1.2205 - val_acc: 0.5410\n",
      "Epoch 10/100\n",
      "2206/2206 [==============================] - 3s 1ms/step - loss: 1.6590 - acc: 0.3305 - val_loss: 1.2639 - val_acc: 0.4098\n",
      "Epoch 11/100\n",
      "2206/2206 [==============================] - 3s 1ms/step - loss: 1.6267 - acc: 0.3500 - val_loss: 1.3555 - val_acc: 0.4590\n",
      "Epoch 12/100\n",
      "2206/2206 [==============================] - 3s 1ms/step - loss: 1.6057 - acc: 0.3522 - val_loss: 1.4513 - val_acc: 0.4344\n",
      "Epoch 13/100\n",
      "2206/2206 [==============================] - 3s 1ms/step - loss: 1.5759 - acc: 0.3649 - val_loss: 1.4993 - val_acc: 0.4426\n",
      "Epoch 14/100\n",
      "2206/2206 [==============================] - 3s 1ms/step - loss: 1.5391 - acc: 0.4034 - val_loss: 1.7369 - val_acc: 0.4754\n",
      "Epoch 15/100\n",
      "2206/2206 [==============================] - 3s 1ms/step - loss: 1.5147 - acc: 0.3926 - val_loss: 1.3679 - val_acc: 0.4426\n",
      "Epoch 16/100\n",
      "2206/2206 [==============================] - 3s 1ms/step - loss: 1.4864 - acc: 0.4075 - val_loss: 1.3993 - val_acc: 0.4754\n",
      "Epoch 17/100\n",
      "2206/2206 [==============================] - 3s 1ms/step - loss: 1.5225 - acc: 0.3953 - val_loss: 1.4542 - val_acc: 0.5000\n",
      "Epoch 18/100\n",
      "2206/2206 [==============================] - 3s 1ms/step - loss: 1.5065 - acc: 0.4102 - val_loss: 1.6134 - val_acc: 0.4918\n",
      "Epoch 19/100\n",
      "2206/2206 [==============================] - 3s 1ms/step - loss: 1.4284 - acc: 0.4429 - val_loss: 1.3009 - val_acc: 0.5246\n",
      "Epoch 20/100\n",
      "2206/2206 [==============================] - 3s 1ms/step - loss: 1.4137 - acc: 0.4547 - val_loss: 1.7764 - val_acc: 0.5574\n",
      "Epoch 21/100\n",
      "2206/2206 [==============================] - 3s 1ms/step - loss: 1.3927 - acc: 0.4746 - val_loss: 1.9449 - val_acc: 0.5082\n",
      "Epoch 22/100\n",
      "2206/2206 [==============================] - 3s 1ms/step - loss: 1.3817 - acc: 0.4606 - val_loss: 1.7721 - val_acc: 0.5082\n",
      "Epoch 23/100\n",
      "2206/2206 [==============================] - 3s 1ms/step - loss: 1.3779 - acc: 0.4538 - val_loss: 1.6208 - val_acc: 0.5492\n",
      "Epoch 24/100\n",
      "2206/2206 [==============================] - 3s 1ms/step - loss: 1.3375 - acc: 0.4760 - val_loss: 2.1054 - val_acc: 0.4836\n",
      "Epoch 25/100\n",
      "2206/2206 [==============================] - 3s 1ms/step - loss: 1.3136 - acc: 0.5050 - val_loss: 1.9191 - val_acc: 0.5328\n",
      "Epoch 26/100\n",
      "2206/2206 [==============================] - 3s 1ms/step - loss: 1.3156 - acc: 0.4964 - val_loss: 1.9941 - val_acc: 0.5492\n",
      "Epoch 27/100\n",
      "2206/2206 [==============================] - 3s 1ms/step - loss: 1.2759 - acc: 0.5000 - val_loss: 2.1272 - val_acc: 0.4672\n",
      "Epoch 28/100\n",
      "2206/2206 [==============================] - 3s 1ms/step - loss: 1.2885 - acc: 0.5168 - val_loss: 1.8736 - val_acc: 0.4754\n",
      "Epoch 29/100\n",
      "2206/2206 [==============================] - 3s 1ms/step - loss: 1.2236 - acc: 0.5254 - val_loss: 1.8033 - val_acc: 0.5410\n",
      "Epoch 30/100\n",
      "2206/2206 [==============================] - 3s 2ms/step - loss: 1.2084 - acc: 0.5449 - val_loss: 2.1964 - val_acc: 0.5082\n",
      "Epoch 31/100\n",
      "2206/2206 [==============================] - 3s 1ms/step - loss: 1.1676 - acc: 0.5580 - val_loss: 1.9898 - val_acc: 0.5328\n",
      "Epoch 32/100\n",
      "2206/2206 [==============================] - 3s 1ms/step - loss: 1.1930 - acc: 0.5390 - val_loss: 2.4046 - val_acc: 0.5082\n",
      "Epoch 33/100\n",
      "2206/2206 [==============================] - 3s 1ms/step - loss: 1.1550 - acc: 0.5666 - val_loss: 1.6071 - val_acc: 0.5738\n",
      "Epoch 34/100\n",
      "2206/2206 [==============================] - 3s 1ms/step - loss: 1.1732 - acc: 0.5621 - val_loss: 2.0909 - val_acc: 0.5410\n",
      "Epoch 35/100\n",
      "2206/2206 [==============================] - 3s 1ms/step - loss: 1.1747 - acc: 0.5530 - val_loss: 2.4608 - val_acc: 0.5328\n",
      "Epoch 36/100\n",
      "2206/2206 [==============================] - 3s 1ms/step - loss: 1.1317 - acc: 0.5630 - val_loss: 2.3532 - val_acc: 0.5246\n",
      "Epoch 37/100\n",
      "2206/2206 [==============================] - 3s 1ms/step - loss: 1.0796 - acc: 0.5811 - val_loss: 2.2634 - val_acc: 0.5820\n",
      "Epoch 38/100\n",
      "2206/2206 [==============================] - 3s 1ms/step - loss: 1.0749 - acc: 0.5947 - val_loss: 1.9647 - val_acc: 0.5246\n",
      "Epoch 39/100\n",
      "2206/2206 [==============================] - 3s 1ms/step - loss: 1.0590 - acc: 0.6160 - val_loss: 1.6845 - val_acc: 0.5082\n",
      "Epoch 40/100\n",
      "2206/2206 [==============================] - 3s 1ms/step - loss: 1.0435 - acc: 0.6011 - val_loss: 2.0781 - val_acc: 0.5820\n",
      "Epoch 41/100\n",
      "2206/2206 [==============================] - 3s 1ms/step - loss: 1.0103 - acc: 0.6247 - val_loss: 2.1982 - val_acc: 0.5246\n",
      "Epoch 42/100\n",
      "2206/2206 [==============================] - 3s 1ms/step - loss: 0.9887 - acc: 0.6296 - val_loss: 2.3492 - val_acc: 0.5246\n",
      "Epoch 43/100\n",
      "2206/2206 [==============================] - 3s 1ms/step - loss: 0.9938 - acc: 0.6183 - val_loss: 2.2124 - val_acc: 0.6066\n",
      "Epoch 44/100\n",
      "2206/2206 [==============================] - 3s 1ms/step - loss: 1.0032 - acc: 0.6346 - val_loss: 2.3312 - val_acc: 0.5738\n",
      "Epoch 45/100\n",
      "2206/2206 [==============================] - 3s 1ms/step - loss: 0.9875 - acc: 0.6369 - val_loss: 1.8642 - val_acc: 0.5574\n",
      "Epoch 46/100\n",
      "2206/2206 [==============================] - 3s 1ms/step - loss: 0.9238 - acc: 0.6519 - val_loss: 2.7985 - val_acc: 0.5328\n",
      "Epoch 47/100\n",
      "2206/2206 [==============================] - 3s 1ms/step - loss: 0.9294 - acc: 0.6387 - val_loss: 1.8056 - val_acc: 0.5574\n",
      "Epoch 48/100\n",
      "2206/2206 [==============================] - 3s 1ms/step - loss: 0.9105 - acc: 0.6596 - val_loss: 1.9652 - val_acc: 0.5984\n",
      "Epoch 49/100\n",
      "2206/2206 [==============================] - 3s 1ms/step - loss: 0.9089 - acc: 0.6600 - val_loss: 2.4407 - val_acc: 0.5656\n",
      "Epoch 50/100\n",
      "2206/2206 [==============================] - 3s 1ms/step - loss: 0.8835 - acc: 0.6732 - val_loss: 2.2821 - val_acc: 0.5410\n",
      "Epoch 51/100\n",
      "2206/2206 [==============================] - 3s 1ms/step - loss: 0.8838 - acc: 0.6782 - val_loss: 2.6413 - val_acc: 0.5082\n",
      "Epoch 52/100\n",
      "2206/2206 [==============================] - 3s 1ms/step - loss: 0.8698 - acc: 0.6704 - val_loss: 2.8116 - val_acc: 0.5410\n",
      "Epoch 53/100\n",
      "2206/2206 [==============================] - 3s 1ms/step - loss: 0.8512 - acc: 0.6854 - val_loss: 2.4196 - val_acc: 0.5492\n",
      "Epoch 54/100\n",
      "2206/2206 [==============================] - 3s 1ms/step - loss: 0.8530 - acc: 0.6772 - val_loss: 2.0032 - val_acc: 0.6066\n",
      "Epoch 55/100\n",
      "2206/2206 [==============================] - 3s 1ms/step - loss: 0.8180 - acc: 0.6972 - val_loss: 2.4364 - val_acc: 0.5738\n",
      "Epoch 56/100\n",
      "2206/2206 [==============================] - 3s 1ms/step - loss: 0.7711 - acc: 0.7158 - val_loss: 2.9521 - val_acc: 0.5082\n",
      "Epoch 57/100\n",
      "2206/2206 [==============================] - 3s 1ms/step - loss: 0.8385 - acc: 0.7013 - val_loss: 2.7720 - val_acc: 0.5738\n",
      "Epoch 58/100\n",
      "2206/2206 [==============================] - 3s 1ms/step - loss: 0.8103 - acc: 0.6963 - val_loss: 2.7873 - val_acc: 0.5164\n",
      "Epoch 59/100\n",
      "2206/2206 [==============================] - 3s 1ms/step - loss: 0.7616 - acc: 0.7230 - val_loss: 2.8383 - val_acc: 0.5328\n",
      "Epoch 60/100\n",
      "2206/2206 [==============================] - 3s 1ms/step - loss: 0.8283 - acc: 0.7085 - val_loss: 2.3886 - val_acc: 0.5328\n"
     ]
    },
    {
     "name": "stdout",
     "output_type": "stream",
     "text": [
      "Epoch 61/100\n",
      "2206/2206 [==============================] - 3s 1ms/step - loss: 0.7615 - acc: 0.7171 - val_loss: 2.3952 - val_acc: 0.5246\n",
      "Epoch 62/100\n",
      "2206/2206 [==============================] - 4s 2ms/step - loss: 0.7082 - acc: 0.7307 - val_loss: 3.1889 - val_acc: 0.5328\n",
      "Epoch 63/100\n",
      "2206/2206 [==============================] - 4s 2ms/step - loss: 0.7697 - acc: 0.7189 - val_loss: 2.1615 - val_acc: 0.5246\n",
      "Epoch 64/100\n",
      "2206/2206 [==============================] - 3s 1ms/step - loss: 0.7069 - acc: 0.7375 - val_loss: 2.7162 - val_acc: 0.5328\n",
      "Epoch 65/100\n",
      "2206/2206 [==============================] - 4s 2ms/step - loss: 0.6667 - acc: 0.7566 - val_loss: 2.8857 - val_acc: 0.5738\n",
      "Epoch 66/100\n",
      "2206/2206 [==============================] - 4s 2ms/step - loss: 0.7029 - acc: 0.7403 - val_loss: 2.0724 - val_acc: 0.5656\n",
      "Epoch 67/100\n",
      "2206/2206 [==============================] - 3s 2ms/step - loss: 0.7127 - acc: 0.7430 - val_loss: 2.9725 - val_acc: 0.5328\n",
      "Epoch 68/100\n",
      "2206/2206 [==============================] - 3s 1ms/step - loss: 0.6494 - acc: 0.7543 - val_loss: 2.7783 - val_acc: 0.5656\n",
      "Epoch 69/100\n",
      "2206/2206 [==============================] - 3s 1ms/step - loss: 0.6415 - acc: 0.7593 - val_loss: 2.1856 - val_acc: 0.5410\n",
      "Epoch 70/100\n",
      "2206/2206 [==============================] - 3s 1ms/step - loss: 0.6653 - acc: 0.7525 - val_loss: 3.4655 - val_acc: 0.5492\n",
      "Epoch 71/100\n",
      "2206/2206 [==============================] - 3s 1ms/step - loss: 0.6130 - acc: 0.7733 - val_loss: 2.7079 - val_acc: 0.5574\n",
      "Epoch 72/100\n",
      "2206/2206 [==============================] - 3s 1ms/step - loss: 0.6434 - acc: 0.7693 - val_loss: 2.3906 - val_acc: 0.5902\n",
      "Epoch 73/100\n",
      "2206/2206 [==============================] - 3s 1ms/step - loss: 0.6046 - acc: 0.7747 - val_loss: 3.4639 - val_acc: 0.5820\n",
      "Epoch 74/100\n",
      "2206/2206 [==============================] - 3s 1ms/step - loss: 0.5470 - acc: 0.7942 - val_loss: 3.0237 - val_acc: 0.5656\n",
      "Epoch 75/100\n",
      "2206/2206 [==============================] - 3s 1ms/step - loss: 0.5429 - acc: 0.7992 - val_loss: 3.5690 - val_acc: 0.5492\n",
      "Epoch 76/100\n",
      "2206/2206 [==============================] - 3s 1ms/step - loss: 0.4764 - acc: 0.8178 - val_loss: 3.5437 - val_acc: 0.5164\n",
      "Epoch 77/100\n",
      "2206/2206 [==============================] - 3s 1ms/step - loss: 0.5498 - acc: 0.8087 - val_loss: 3.3955 - val_acc: 0.5246\n",
      "Epoch 78/100\n",
      "2206/2206 [==============================] - 3s 1ms/step - loss: 0.6262 - acc: 0.7815 - val_loss: 3.2577 - val_acc: 0.5164\n",
      "Epoch 79/100\n",
      "2206/2206 [==============================] - 3s 1ms/step - loss: 0.4984 - acc: 0.8187 - val_loss: 3.5007 - val_acc: 0.5492\n",
      "Epoch 80/100\n",
      "2206/2206 [==============================] - 3s 1ms/step - loss: 0.4980 - acc: 0.8191 - val_loss: 3.8643 - val_acc: 0.5328\n",
      "Epoch 81/100\n",
      "2206/2206 [==============================] - 3s 1ms/step - loss: 0.5310 - acc: 0.8123 - val_loss: 4.0648 - val_acc: 0.5410\n",
      "Epoch 82/100\n",
      "2206/2206 [==============================] - 3s 1ms/step - loss: 0.4901 - acc: 0.8268 - val_loss: 4.0789 - val_acc: 0.5328\n",
      "Epoch 83/100\n",
      "2206/2206 [==============================] - 3s 1ms/step - loss: 0.4081 - acc: 0.8477 - val_loss: 3.5396 - val_acc: 0.5656\n",
      "Epoch 84/100\n",
      "2206/2206 [==============================] - 3s 1ms/step - loss: 0.4781 - acc: 0.8318 - val_loss: 4.0042 - val_acc: 0.5246\n",
      "Epoch 85/100\n",
      "2206/2206 [==============================] - 3s 1ms/step - loss: 0.4546 - acc: 0.8264 - val_loss: 4.5630 - val_acc: 0.4836\n",
      "Epoch 86/100\n",
      "2206/2206 [==============================] - 3s 1ms/step - loss: 0.4945 - acc: 0.8354 - val_loss: 4.2409 - val_acc: 0.5246\n",
      "Epoch 87/100\n",
      "2206/2206 [==============================] - 3s 1ms/step - loss: 0.4561 - acc: 0.8382 - val_loss: 4.1497 - val_acc: 0.5082\n",
      "Epoch 88/100\n",
      "2206/2206 [==============================] - 3s 1ms/step - loss: 0.3991 - acc: 0.8690 - val_loss: 3.4955 - val_acc: 0.5492\n",
      "Epoch 89/100\n",
      "2206/2206 [==============================] - 3s 1ms/step - loss: 0.3501 - acc: 0.8704 - val_loss: 4.3040 - val_acc: 0.5328\n",
      "Epoch 90/100\n",
      "2206/2206 [==============================] - 3s 1ms/step - loss: 0.4021 - acc: 0.8509 - val_loss: 3.6641 - val_acc: 0.5656\n",
      "Epoch 91/100\n",
      "2206/2206 [==============================] - 3s 1ms/step - loss: 0.4580 - acc: 0.8422 - val_loss: 3.6485 - val_acc: 0.5656\n",
      "Epoch 92/100\n",
      "2206/2206 [==============================] - 3s 1ms/step - loss: 0.4549 - acc: 0.8450 - val_loss: 3.5088 - val_acc: 0.5574\n",
      "Epoch 93/100\n",
      "2206/2206 [==============================] - 3s 1ms/step - loss: 0.4146 - acc: 0.8586 - val_loss: 3.8666 - val_acc: 0.5000\n",
      "Epoch 94/100\n",
      "2206/2206 [==============================] - 3s 1ms/step - loss: 0.4069 - acc: 0.8631 - val_loss: 3.6323 - val_acc: 0.5574\n",
      "Epoch 95/100\n",
      "2206/2206 [==============================] - 3s 1ms/step - loss: 0.3888 - acc: 0.8717 - val_loss: 3.9412 - val_acc: 0.5410\n",
      "Epoch 96/100\n",
      "2206/2206 [==============================] - 3s 1ms/step - loss: 0.3705 - acc: 0.8740 - val_loss: 4.1366 - val_acc: 0.5246\n",
      "Epoch 97/100\n",
      "2206/2206 [==============================] - 3s 2ms/step - loss: 0.3247 - acc: 0.8840 - val_loss: 4.2584 - val_acc: 0.5574\n",
      "Epoch 98/100\n",
      "2206/2206 [==============================] - 4s 2ms/step - loss: 0.3628 - acc: 0.8758 - val_loss: 4.3754 - val_acc: 0.5574\n",
      "Epoch 99/100\n",
      "2206/2206 [==============================] - 3s 1ms/step - loss: 0.2706 - acc: 0.9057 - val_loss: 4.2794 - val_acc: 0.5410\n",
      "Epoch 100/100\n",
      "2206/2206 [==============================] - 3s 1ms/step - loss: 0.2758 - acc: 0.9048 - val_loss: 4.4107 - val_acc: 0.5328\n"
     ]
    }
   ],
   "source": [
    "model_A = create_model_LSTM()\n",
    "history = model_A.fit(np.expand_dims(data[:training_samples],-1), labels_categorical[:training_samples], validation_data=(np.expand_dims(data[training_samples:training_samples+validation_samples], -1), labels_categorical[training_samples:training_samples+validation_samples]), epochs=100, shuffle=True)"
   ]
  },
  {
   "cell_type": "code",
   "execution_count": 32,
   "metadata": {},
   "outputs": [],
   "source": [
    "# loss = history.history['loss']\n",
    "# val_loss = history.history['val_loss']\n",
    "\n",
    "# epochs = range(1, len(loss) + 1)\n",
    "\n",
    "# plt.plot(epochs, loss, 'ro', label='Training loss')\n",
    "# plt.plot(epochs, val_loss, 'b', label='Validation loss')\n",
    "# plt.title('Training and validation loss')\n",
    "# plt.xlabel('Epochs')\n",
    "# plt.ylabel('Loss')\n",
    "# plt.legend()\n",
    "\n",
    "# # plt.show()"
   ]
  },
  {
   "cell_type": "code",
   "execution_count": 29,
   "metadata": {},
   "outputs": [
    {
     "data": {
      "image/png": "[encoded data removed]",
      "text/plain": [
       "<Figure size 432x288 with 1 Axes>"
      ]
     },
     "metadata": {},
     "output_type": "display_data"
    }
   ],
   "source": [
    "plt.clf()                                                \n",
    "\n",
    "acc = history.history['acc']\n",
    "val_acc = history.history['val_acc']\n",
    "\n",
    "plt.plot(epochs, acc, 'ro', label='Training acc')\n",
    "plt.plot(epochs, val_acc, 'b', label='Validation acc')\n",
    "plt.title('Training and validation accuracy')\n",
    "plt.xlabel('Epochs')\n",
    "plt.ylabel('acc')\n",
    "plt.legend()\n",
    "\n",
    "plt.show()"
   ]
  },
  {
   "cell_type": "code",
   "execution_count": 30,
   "metadata": {},
   "outputs": [
    {
     "name": "stdout",
     "output_type": "stream",
     "text": [
      "124/124 [==============================] - 0s 601us/step\n"
     ]
    },
    {
     "data": {
      "text/plain": [
       "[1.9765283907613447, 0.701612901303076]"
      ]
     },
     "execution_count": 30,
     "metadata": {},
     "output_type": "execute_result"
    }
   ],
   "source": [
    "### evaluate using model A\n",
    "model_A.evaluate(np.expand_dims(data[training_samples + validation_samples:], -1), labels_categorical[training_samples + validation_samples:])"
   ]
  },
  {
   "cell_type": "code",
   "execution_count": null,
   "metadata": {},
   "outputs": [],
   "source": [
    "def new_CNN():\n",
    "    ### CNN model, referred to the model C in the report\n",
    "    model = Sequential()\n",
    "    model.add(Conv1D(8, 5,padding='same', input_shape=(40, 1)))\n",
    "    model.add(Activation('relu'))\n",
    "    model.add(Conv1D(16, 5,padding='same'))\n",
    "    model.add(Activation('relu'))\n",
    "    model.add(Dropout(0.1))\n",
    "    model.add(MaxPooling1D(pool_size=(8)))\n",
    "    model.add(Conv1D(32, 5,padding='same',))\n",
    "    model.add(Activation('relu'))\n",
    "    model.add(Dropout(0.2))\n",
    "    model.add(Conv1D(16, 5,padding='same',))\n",
    "    model.add(Activation('relu'))\n",
    "    model.add(Flatten())\n",
    "    model.add(Dense(8))\n",
    "    model.add(Activation('softmax'))\n",
    "    opt = rmsprop(lr=0.00001, decay=1e-6)\n",
    "    model.compile(loss='categorical_crossentropy', optimizer='Adam',metrics=['accuracy'])\n",
    "    return model\n",
    "\n",
    "\n",
    "\n",
    "\n",
    "\n",
    "def train_CNN():\n",
    "    ### CNN model, referred to the model D in the report\n",
    "    model = Sequential()\n",
    "    model.add(Conv1D(128, 5,padding='same',\n",
    "                 input_shape=(40,1)))\n",
    "    model.add(Activation('relu'))\n",
    "    model.add(Dropout(0.1))\n",
    "    model.add(MaxPooling1D(pool_size=(8)))\n",
    "    model.add(Conv1D(128, 5,padding='same',))\n",
    "    model.add(Activation('relu'))\n",
    "    model.add(Dropout(0.1))\n",
    "    model.add(Flatten())\n",
    "    model.add(Dense(8))\n",
    "    model.add(Activation('softmax'))\n",
    "    opt = keras.optimizers.rmsprop(lr=0.00005, rho=0.9, epsilon=None, decay=0.0)\n",
    "    \n",
    "\n",
    "    model.compile(loss='categorical_crossentropy',\n",
    "              optimizer=opt,\n",
    "              metrics=['accuracy'])\n",
    "    return model"
   ]
  }
 ],
 "metadata": {
  "kernelspec": {
   "display_name": "Python 3",
   "language": "python",
   "name": "python3"
  },
  "language_info": {
   "codemirror_mode": {
    "name": "ipython",
    "version": 3
   },
   "file_extension": ".py",
   "mimetype": "text/x-python",
   "name": "python",
   "nbconvert_exporter": "python",
   "pygments_lexer": "ipython3",
   "version": "3.5.2"
  }
 },
 "nbformat": 4,
 "nbformat_minor": 2
}
