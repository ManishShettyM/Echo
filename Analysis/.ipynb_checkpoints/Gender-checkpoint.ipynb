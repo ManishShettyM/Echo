{
 "cells": [
  {
   "cell_type": "code",
   "execution_count": 28,
   "metadata": {},
   "outputs": [
    {
     "name": "stdout",
     "output_type": "stream",
     "text": [
      "Out of bounds\n"
     ]
    }
   ],
   "source": [
    "import os\n",
    "import pandas as pd\n",
    "destpdir = \"../../CSVs\"\n",
    "male_csvs = []\n",
    "female_csvs = []\n",
    "for root,dirs,files in os.walk(destpdir):\n",
    "    try:\n",
    "        i = int(root.split(\"_\")[1])\n",
    "        if(i%2 == 0):\n",
    "            for j in files:\n",
    "                female_csvs.append(root+\"/\"+j)\n",
    "        else:\n",
    "            for j in files:\n",
    "                male_csvs.append(root+\"/\"+j)\n",
    "    except:\n",
    "        print(\"Out of bounds\")\n",
    "\n"
   ]
  },
  {
   "cell_type": "code",
   "execution_count": 34,
   "metadata": {},
   "outputs": [
    {
     "name": "stdout",
     "output_type": "stream",
     "text": [
      "126217305\n"
     ]
    }
   ],
   "source": [
    "male_amplitudes = []\n",
    "for csv in male_csvs:\n",
    "    df = pd.read_csv(csv)\n",
    "    male_amplitudes+=list(df[\"Amplitude\"])\n",
    "print(len(male_amplitudes))"
   ]
  },
  {
   "cell_type": "code",
   "execution_count": null,
   "metadata": {},
   "outputs": [],
   "source": [
    "female_amplitudes = []\n",
    "for csv in female_csvs:\n",
    "    df = pd.read_csv(csv)\n",
    "    female_amplitudes+=list(df[\"Amplitude\"])\n",
    "print(len(female_amplitudes))"
   ]
  }
 ],
 "metadata": {
  "kernelspec": {
   "display_name": "Python 3",
   "language": "python",
   "name": "python3"
  },
  "language_info": {
   "codemirror_mode": {
    "name": "ipython",
    "version": 3
   },
   "file_extension": ".py",
   "mimetype": "text/x-python",
   "name": "python",
   "nbconvert_exporter": "python",
   "pygments_lexer": "ipython3",
   "version": "3.5.2"
  }
 },
 "nbformat": 4,
 "nbformat_minor": 2
}
