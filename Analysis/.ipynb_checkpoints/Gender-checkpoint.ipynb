{
 "cells": [
  {
   "cell_type": "code",
   "execution_count": 5,
   "metadata": {},
   "outputs": [
    {
     "name": "stdout",
     "output_type": "stream",
     "text": [
      "['../../CSVs/Actor_18.csv', '../../CSVs/Actor_20.csv', '../../CSVs/Actor_08.csv', '../../CSVs/Actor_16.csv', '../../CSVs/Actor_24.csv', '../../CSVs/Actor_12.csv', '../../CSVs/Actor_04.csv', '../../CSVs/Actor_10.csv', '../../CSVs/Actor_22.csv', '../../CSVs/Actor_02.csv', '../../CSVs/Actor_06.csv', '../../CSVs/Actor_14.csv']\n",
      "['../../CSVs/Actor_17.csv', '../../CSVs/Actor_03.csv', '../../CSVs/Actor_09.csv', '../../CSVs/Actor_19.csv', '../../CSVs/Actor_01.csv', '../../CSVs/Actor_13.csv', '../../CSVs/Actor_11.csv', '../../CSVs/Actor_07.csv', '../../CSVs/Actor_21.csv', '../../CSVs/Actor_15.csv', '../../CSVs/Actor_05.csv', '../../CSVs/Actor_23.csv']\n"
     ]
    }
   ],
   "source": [
    "import os\n",
    "import pandas as pd\n",
    "destpdir = \"../../CSVs\"\n",
    "male_csvs = []\n",
    "female_csvs = []\n",
    "for root,dirs,files in os.walk(destpdir):\n",
    "    for i in range(len(files)):\n",
    "        if(int(files[i].split(\".\")[0].split(\"_\")[1]) % 2 == 0):\n",
    "            female_csvs.append(destpdir+\"/\"+files[i])\n",
    "        else:\n",
    "            male_csvs.append(destpdir+\"/\"+files[i])\n",
    "\n"
   ]
  },
  {
   "cell_type": "code",
   "execution_count": 6,
   "metadata": {},
   "outputs": [
    {
     "name": "stdout",
     "output_type": "stream",
     "text": [
      "20597558\n"
     ]
    }
   ],
   "source": [
    "male_amplitudes = []\n",
    "for csv in male_csvs:\n",
    "    df = pd.read_csv(csv)\n",
    "    male_amplitudes+=list(df[\"Amplitude\"])\n",
    "print(len(male_amplitudes))"
   ]
  },
  {
   "cell_type": "code",
   "execution_count": 7,
   "metadata": {},
   "outputs": [
    {
     "name": "stdout",
     "output_type": "stream",
     "text": [
      "19774784\n"
     ]
    }
   ],
   "source": [
    "female_amplitudes = []\n",
    "for csv in female_csvs:\n",
    "    df = pd.read_csv(csv)\n",
    "    female_amplitudes+=list(df[\"Amplitude\"])\n",
    "print(len(female_amplitudes))"
   ]
  },
  {
   "cell_type": "code",
   "execution_count": 12,
   "metadata": {},
   "outputs": [
    {
     "data": {
      "text/plain": [
       "(array([1.5700000e+02, 8.7200000e+02, 5.1710000e+03, 3.7760000e+04,\n",
       "        1.8667511e+07, 1.8483520e+06, 3.1109000e+04, 5.2930000e+03,\n",
       "        1.1240000e+03, 2.0900000e+02]),\n",
       " array([-1.0288489 , -0.82163348, -0.61441806, -0.40720264, -0.19998722,\n",
       "         0.0072282 ,  0.21444362,  0.42165904,  0.62887446,  0.83608988,\n",
       "         1.0433053 ]),\n",
       " <a list of 10 Patch objects>)"
      ]
     },
     "execution_count": 12,
     "metadata": {},
     "output_type": "execute_result"
    },
    {
     "data": {
      "image/png": "[encoded data removed]",
      "text/plain": [
       "<matplotlib.figure.Figure at 0x7fe139e15eb8>"
      ]
     },
     "metadata": {
      "needs_background": "light"
     },
     "output_type": "display_data"
    }
   ],
   "source": [
    "import matplotlib.pyplot as plt\n",
    "plt.hist(male_amplitudes)\n",
    "plt.hist(female_amplitudes)"
   ]
  }
 ],
 "metadata": {
  "kernelspec": {
   "display_name": "Python 3",
   "language": "python",
   "name": "python3"
  },
  "language_info": {
   "codemirror_mode": {
    "name": "ipython",
    "version": 3
   },
   "file_extension": ".py",
   "mimetype": "text/x-python",
   "name": "python",
   "nbconvert_exporter": "python",
   "pygments_lexer": "ipython3",
   "version": "3.5.2"
  }
 },
 "nbformat": 4,
 "nbformat_minor": 2
}
