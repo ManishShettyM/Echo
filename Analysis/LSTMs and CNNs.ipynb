{
 "cells": [
  {
   "cell_type": "code",
   "execution_count": 2,
   "metadata": {},
   "outputs": [],
   "source": [
    "import numpy as np \n",
    "import pandas as pd \n",
    "import os\n",
    "import matplotlib.pyplot as plt"
   ]
  },
  {
   "cell_type": "code",
   "execution_count": 3,
   "metadata": {},
   "outputs": [
    {
     "name": "stderr",
     "output_type": "stream",
     "text": [
      "Using TensorFlow backend.\n"
     ]
    }
   ],
   "source": [
    "import librosa\n",
    "import wave\n",
    "import keras\n",
    "from keras.utils import to_categorical\n",
    "from keras.models import Sequential\n",
    "from keras.layers import *\n",
    "from keras.optimizers import rmsprop"
   ]
  },
  {
   "cell_type": "code",
   "execution_count": 4,
   "metadata": {},
   "outputs": [],
   "source": [
    "def extract_mfcc(wav_file_name):\n",
    "    '''This function extracts mfcc features and obtain the mean of each dimension\n",
    "    Input : path_to_wav_file\n",
    "    Output: mfcc_features'''\n",
    "    y, sr = librosa.load(wav_file_name)\n",
    "    mfccs = np.mean(librosa.feature.mfcc(y=y, sr=sr, n_mfcc=40).T,axis=0)\n",
    "    return mfccs"
   ]
  },
  {
   "cell_type": "code",
   "execution_count": 5,
   "metadata": {},
   "outputs": [],
   "source": [
    "##### load radvess speech data #####\n",
    "root_dir = \"../Dataset/Audio_Speech_Actors_01-24\"\n",
    "radvess_speech_labels = []\n",
    "ravdess_speech_data = []\n",
    "for actor_dir in sorted(os.listdir(root_dir)):\n",
    "    actor_name = os.path.join(root_dir, actor_dir)\n",
    "    for file in os.listdir(actor_name):\n",
    "        radvess_speech_labels.append(int(file[7:8]) - 1)\n",
    "        wav_file_name = os.path.join(root_dir, actor_dir, file)\n",
    "        ravdess_speech_data.append(extract_mfcc(wav_file_name))"
   ]
  },
  {
   "cell_type": "code",
   "execution_count": 6,
   "metadata": {},
   "outputs": [
    {
     "data": {
      "text/plain": [
       "(1440,)"
      ]
     },
     "execution_count": 6,
     "metadata": {},
     "output_type": "execute_result"
    }
   ],
   "source": [
    "ravdess_speech_data_array = np.asarray(ravdess_speech_data)\n",
    "ravdess_speech_label_array = np.array(radvess_speech_labels)\n",
    "ravdess_speech_label_array.shape"
   ]
  },
  {
   "cell_type": "code",
   "execution_count": 7,
   "metadata": {},
   "outputs": [],
   "source": [
    "### load RAVDESS song data\n",
    "root_dir = \"../Dataset/Audio_Song_Actors_01-24\"\n",
    "radvess_song_labels = []\n",
    "ravdess_song_data = []\n",
    "for actor_dir in sorted(os.listdir(root_dir)):\n",
    "    actor_name = os.path.join(root_dir, actor_dir)\n",
    "    for file in os.listdir(actor_name):\n",
    "        radvess_song_labels.append(int(file[7:8]) - 1)\n",
    "        wav_file_name = os.path.join(root_dir, actor_dir, file)\n",
    "        ravdess_song_data.append(extract_mfcc(wav_file_name))"
   ]
  },
  {
   "cell_type": "code",
   "execution_count": 8,
   "metadata": {},
   "outputs": [
    {
     "data": {
      "text/plain": [
       "(1012,)"
      ]
     },
     "execution_count": 8,
     "metadata": {},
     "output_type": "execute_result"
    }
   ],
   "source": [
    "ravdess_song_data_array = np.asarray(ravdess_song_data)\n",
    "ravdess_song_label_array = np.array(radvess_song_labels)\n",
    "ravdess_song_label_array.shape"
   ]
  },
  {
   "cell_type": "code",
   "execution_count": 12,
   "metadata": {},
   "outputs": [
    {
     "data": {
      "text/plain": [
       "(2452,)"
      ]
     },
     "execution_count": 12,
     "metadata": {},
     "output_type": "execute_result"
    }
   ],
   "source": [
    "data = np.r_[ravdess_speech_data_array, ravdess_song_data_array]\n",
    "labels = np.r_[ravdess_speech_label_array, ravdess_song_label_array]\n",
    "# data = ravdess_speech_data_array\n",
    "# labels = ravdess_speech_label_array\n",
    "labels.shape"
   ]
  },
  {
   "cell_type": "code",
   "execution_count": 13,
   "metadata": {},
   "outputs": [
    {
     "data": {
      "image/png": "[encoded data removed]",
      "text/plain": [
       "<Figure size 432x288 with 1 Axes>"
      ]
     },
     "metadata": {},
     "output_type": "display_data"
    }
   ],
   "source": [
    "import matplotlib.pyplot as plt\n",
    "plt.hist(labels)\n",
    "plt.show()"
   ]
  },
  {
   "cell_type": "code",
   "execution_count": 14,
   "metadata": {},
   "outputs": [
    {
     "data": {
      "text/plain": [
       "(2452, 8)"
      ]
     },
     "execution_count": 14,
     "metadata": {},
     "output_type": "execute_result"
    }
   ],
   "source": [
    "labels_categorical = to_categorical(labels)\n",
    "data.shape\n",
    "labels_categorical.shape"
   ]
  },
  {
   "cell_type": "code",
   "execution_count": 15,
   "metadata": {},
   "outputs": [],
   "source": [
    "def create_model_LSTM():\n",
    "    ### LSTM model, referred to the model A in the report\n",
    "    model = Sequential()\n",
    "    model.add(LSTM(128, return_sequences=False, input_shape=(40, 1)))\n",
    "    model.add(Dense(64))\n",
    "    model.add(Dropout(0.4))\n",
    "    model.add(Activation('relu'))\n",
    "    model.add(Dense(32))\n",
    "    model.add(Dropout(0.4))\n",
    "    model.add(Activation('relu'))\n",
    "    model.add(Dense(8))\n",
    "    model.add(Activation('softmax'))\n",
    "\n",
    "    model.compile(loss='categorical_crossentropy', optimizer='Adam', metrics=['accuracy'])\n",
    "    return model"
   ]
  },
  {
   "cell_type": "code",
   "execution_count": 16,
   "metadata": {},
   "outputs": [],
   "source": [
    "number_of_samples = data.shape[0]\n",
    "training_samples = int(number_of_samples * 0.8)\n",
    "validation_samples = int(number_of_samples * 0.1)\n",
    "test_samples = int(number_of_samples * 0.1)"
   ]
  },
  {
   "cell_type": "code",
   "execution_count": 17,
   "metadata": {},
   "outputs": [
    {
     "name": "stdout",
     "output_type": "stream",
     "text": [
      "Train on 1961 samples, validate on 245 samples\n",
      "Epoch 1/100\n",
      "1961/1961 [==============================] - 3s 1ms/step - loss: 2.0598 - acc: 0.1520 - val_loss: 1.9024 - val_acc: 0.2776\n",
      "Epoch 2/100\n",
      "1961/1961 [==============================] - 2s 1ms/step - loss: 2.0254 - acc: 0.1662 - val_loss: 1.8545 - val_acc: 0.2980\n",
      "Epoch 3/100\n",
      "1961/1961 [==============================] - 2s 1ms/step - loss: 1.9867 - acc: 0.1999 - val_loss: 1.7809 - val_acc: 0.2735\n",
      "Epoch 4/100\n",
      "1961/1961 [==============================] - 2s 1ms/step - loss: 1.9331 - acc: 0.2315 - val_loss: 1.7442 - val_acc: 0.2122\n",
      "Epoch 5/100\n",
      "1961/1961 [==============================] - 3s 1ms/step - loss: 1.9011 - acc: 0.2438 - val_loss: 1.6849 - val_acc: 0.2612\n",
      "Epoch 6/100\n",
      "1961/1961 [==============================] - 2s 1ms/step - loss: 1.8564 - acc: 0.2733 - val_loss: 1.6525 - val_acc: 0.2367\n",
      "Epoch 7/100\n",
      "1961/1961 [==============================] - 2s 1ms/step - loss: 1.8135 - acc: 0.2845 - val_loss: 1.6332 - val_acc: 0.3224\n",
      "Epoch 8/100\n",
      "1961/1961 [==============================] - 2s 1ms/step - loss: 1.7834 - acc: 0.3029 - val_loss: 1.4892 - val_acc: 0.3388\n",
      "Epoch 9/100\n",
      "1961/1961 [==============================] - 2s 1ms/step - loss: 1.7688 - acc: 0.3095 - val_loss: 1.5495 - val_acc: 0.3102\n",
      "Epoch 10/100\n",
      "1961/1961 [==============================] - 2s 1ms/step - loss: 1.7517 - acc: 0.3126 - val_loss: 1.4039 - val_acc: 0.3959\n",
      "Epoch 11/100\n",
      "1961/1961 [==============================] - 3s 1ms/step - loss: 1.7352 - acc: 0.3197 - val_loss: 1.4082 - val_acc: 0.3102\n",
      "Epoch 12/100\n",
      "1961/1961 [==============================] - 2s 1ms/step - loss: 1.6870 - acc: 0.3310 - val_loss: 1.4273 - val_acc: 0.3551\n",
      "Epoch 13/100\n",
      "1961/1961 [==============================] - 2s 1ms/step - loss: 1.6805 - acc: 0.3514 - val_loss: 1.4253 - val_acc: 0.3918\n",
      "Epoch 14/100\n",
      "1961/1961 [==============================] - 2s 1ms/step - loss: 1.6480 - acc: 0.3529 - val_loss: 1.4437 - val_acc: 0.3959\n",
      "Epoch 15/100\n",
      "1961/1961 [==============================] - 2s 1ms/step - loss: 1.6369 - acc: 0.3519 - val_loss: 1.3820 - val_acc: 0.3714\n",
      "Epoch 16/100\n",
      "1961/1961 [==============================] - 3s 1ms/step - loss: 1.5954 - acc: 0.3896 - val_loss: 1.2760 - val_acc: 0.4449\n",
      "Epoch 17/100\n",
      "1961/1961 [==============================] - 2s 1ms/step - loss: 1.5852 - acc: 0.3876 - val_loss: 1.3536 - val_acc: 0.4694\n",
      "Epoch 18/100\n",
      "1961/1961 [==============================] - 2s 1ms/step - loss: 1.5521 - acc: 0.3952 - val_loss: 1.2438 - val_acc: 0.4531\n",
      "Epoch 19/100\n",
      "1961/1961 [==============================] - 2s 1ms/step - loss: 1.5427 - acc: 0.4197 - val_loss: 1.3287 - val_acc: 0.4449\n",
      "Epoch 20/100\n",
      "1961/1961 [==============================] - 2s 1ms/step - loss: 1.5304 - acc: 0.4080 - val_loss: 1.1921 - val_acc: 0.5143\n",
      "Epoch 21/100\n",
      "1961/1961 [==============================] - 2s 1ms/step - loss: 1.5052 - acc: 0.4187 - val_loss: 1.3865 - val_acc: 0.4531\n",
      "Epoch 22/100\n",
      "1961/1961 [==============================] - 2s 1ms/step - loss: 1.4817 - acc: 0.4319 - val_loss: 1.5576 - val_acc: 0.4735\n",
      "Epoch 23/100\n",
      "1961/1961 [==============================] - 2s 1ms/step - loss: 1.4933 - acc: 0.4141 - val_loss: 1.2892 - val_acc: 0.5388\n",
      "Epoch 24/100\n",
      "1961/1961 [==============================] - 3s 1ms/step - loss: 1.4565 - acc: 0.4416 - val_loss: 1.5623 - val_acc: 0.4653\n",
      "Epoch 25/100\n",
      "1961/1961 [==============================] - 3s 1ms/step - loss: 1.4132 - acc: 0.4620 - val_loss: 1.2960 - val_acc: 0.5061\n",
      "Epoch 26/100\n",
      "1961/1961 [==============================] - 3s 1ms/step - loss: 1.4023 - acc: 0.4732 - val_loss: 1.2525 - val_acc: 0.5306\n",
      "Epoch 27/100\n",
      "1961/1961 [==============================] - 2s 1ms/step - loss: 1.3903 - acc: 0.4691 - val_loss: 1.5532 - val_acc: 0.5224\n",
      "Epoch 28/100\n",
      "1961/1961 [==============================] - 3s 1ms/step - loss: 1.3748 - acc: 0.4732 - val_loss: 1.2140 - val_acc: 0.5265\n",
      "Epoch 29/100\n",
      "1961/1961 [==============================] - 3s 2ms/step - loss: 1.3610 - acc: 0.4768 - val_loss: 1.2677 - val_acc: 0.5551\n",
      "Epoch 30/100\n",
      "1961/1961 [==============================] - 3s 2ms/step - loss: 1.3789 - acc: 0.4768 - val_loss: 1.2624 - val_acc: 0.5102\n",
      "Epoch 31/100\n",
      "1961/1961 [==============================] - 3s 1ms/step - loss: 1.2864 - acc: 0.5064 - val_loss: 1.2498 - val_acc: 0.5102\n",
      "Epoch 32/100\n",
      "1961/1961 [==============================] - 3s 1ms/step - loss: 1.2824 - acc: 0.5008 - val_loss: 1.2920 - val_acc: 0.5265\n",
      "Epoch 33/100\n",
      "1961/1961 [==============================] - 3s 1ms/step - loss: 1.2656 - acc: 0.5150 - val_loss: 1.3700 - val_acc: 0.5469\n",
      "Epoch 34/100\n",
      "1961/1961 [==============================] - 3s 1ms/step - loss: 1.2417 - acc: 0.5181 - val_loss: 1.1082 - val_acc: 0.5714\n",
      "Epoch 35/100\n",
      "1961/1961 [==============================] - 3s 1ms/step - loss: 1.2645 - acc: 0.5186 - val_loss: 1.4020 - val_acc: 0.5429\n",
      "Epoch 36/100\n",
      "1961/1961 [==============================] - 2s 1ms/step - loss: 1.2396 - acc: 0.5278 - val_loss: 1.1235 - val_acc: 0.5959\n",
      "Epoch 37/100\n",
      "1961/1961 [==============================] - 2s 1ms/step - loss: 1.2423 - acc: 0.5222 - val_loss: 1.4237 - val_acc: 0.5388\n",
      "Epoch 38/100\n",
      "1961/1961 [==============================] - 2s 1ms/step - loss: 1.2346 - acc: 0.5324 - val_loss: 1.5665 - val_acc: 0.5102\n",
      "Epoch 39/100\n",
      "1961/1961 [==============================] - 2s 1ms/step - loss: 1.2482 - acc: 0.5201 - val_loss: 1.1119 - val_acc: 0.6041\n",
      "Epoch 40/100\n",
      "1961/1961 [==============================] - 2s 1ms/step - loss: 1.1729 - acc: 0.5548 - val_loss: 1.4125 - val_acc: 0.5592\n",
      "Epoch 41/100\n",
      "1961/1961 [==============================] - 2s 1ms/step - loss: 1.1459 - acc: 0.5614 - val_loss: 1.4104 - val_acc: 0.5388\n",
      "Epoch 42/100\n",
      "1961/1961 [==============================] - 2s 1ms/step - loss: 1.1027 - acc: 0.5681 - val_loss: 1.5205 - val_acc: 0.5306\n",
      "Epoch 43/100\n",
      "1961/1961 [==============================] - 2s 1ms/step - loss: 1.1278 - acc: 0.5681 - val_loss: 1.8805 - val_acc: 0.4939\n",
      "Epoch 44/100\n",
      "1961/1961 [==============================] - 2s 1ms/step - loss: 1.1019 - acc: 0.5808 - val_loss: 1.7236 - val_acc: 0.5102\n",
      "Epoch 45/100\n",
      "1961/1961 [==============================] - 2s 1ms/step - loss: 1.0513 - acc: 0.6053 - val_loss: 1.6438 - val_acc: 0.5306\n",
      "Epoch 46/100\n",
      "1961/1961 [==============================] - 2s 1ms/step - loss: 1.0516 - acc: 0.6022 - val_loss: 1.8364 - val_acc: 0.4939\n",
      "Epoch 47/100\n",
      "1961/1961 [==============================] - 2s 1ms/step - loss: 1.0394 - acc: 0.5956 - val_loss: 1.3714 - val_acc: 0.5347\n",
      "Epoch 48/100\n",
      "1961/1961 [==============================] - 2s 1ms/step - loss: 1.0526 - acc: 0.6084 - val_loss: 1.9795 - val_acc: 0.4980\n",
      "Epoch 49/100\n",
      "1961/1961 [==============================] - 2s 1ms/step - loss: 1.0088 - acc: 0.6226 - val_loss: 1.9211 - val_acc: 0.4735\n",
      "Epoch 50/100\n",
      "1961/1961 [==============================] - 2s 1ms/step - loss: 1.0056 - acc: 0.6130 - val_loss: 2.0773 - val_acc: 0.4898\n",
      "Epoch 51/100\n",
      "1961/1961 [==============================] - 2s 1ms/step - loss: 0.9475 - acc: 0.6435 - val_loss: 1.9021 - val_acc: 0.5469\n",
      "Epoch 52/100\n",
      "1961/1961 [==============================] - 2s 1ms/step - loss: 0.9892 - acc: 0.6303 - val_loss: 1.8062 - val_acc: 0.5143\n",
      "Epoch 53/100\n",
      "1961/1961 [==============================] - 3s 1ms/step - loss: 0.9458 - acc: 0.6425 - val_loss: 2.0695 - val_acc: 0.4776\n",
      "Epoch 54/100\n",
      "1961/1961 [==============================] - 2s 1ms/step - loss: 0.9686 - acc: 0.6328 - val_loss: 2.3271 - val_acc: 0.4327\n",
      "Epoch 55/100\n",
      "1961/1961 [==============================] - 3s 1ms/step - loss: 0.9109 - acc: 0.6553 - val_loss: 2.3083 - val_acc: 0.4571\n",
      "Epoch 56/100\n",
      "1961/1961 [==============================] - 2s 1ms/step - loss: 0.8691 - acc: 0.6578 - val_loss: 2.2424 - val_acc: 0.4735\n",
      "Epoch 57/100\n",
      "1961/1961 [==============================] - 3s 1ms/step - loss: 0.9275 - acc: 0.6481 - val_loss: 2.3334 - val_acc: 0.4531\n",
      "Epoch 58/100\n",
      "1961/1961 [==============================] - 2s 1ms/step - loss: 0.9123 - acc: 0.6629 - val_loss: 2.6926 - val_acc: 0.4735\n",
      "Epoch 59/100\n",
      "1961/1961 [==============================] - 2s 1ms/step - loss: 0.8412 - acc: 0.6843 - val_loss: 2.2498 - val_acc: 0.4857\n",
      "Epoch 60/100\n",
      "1961/1961 [==============================] - 3s 1ms/step - loss: 0.8225 - acc: 0.6900 - val_loss: 2.5405 - val_acc: 0.4490\n"
     ]
    },
    {
     "name": "stdout",
     "output_type": "stream",
     "text": [
      "Epoch 61/100\n",
      "1961/1961 [==============================] - 2s 1ms/step - loss: 0.7606 - acc: 0.7104 - val_loss: 2.7909 - val_acc: 0.4490\n",
      "Epoch 62/100\n",
      "1961/1961 [==============================] - 2s 1ms/step - loss: 0.8083 - acc: 0.7134 - val_loss: 3.0370 - val_acc: 0.4735\n",
      "Epoch 63/100\n",
      "1961/1961 [==============================] - 2s 1ms/step - loss: 0.7738 - acc: 0.7093 - val_loss: 3.2742 - val_acc: 0.4571\n",
      "Epoch 64/100\n",
      "1961/1961 [==============================] - 2s 1ms/step - loss: 0.7299 - acc: 0.7226 - val_loss: 3.2921 - val_acc: 0.4367\n",
      "Epoch 65/100\n",
      "1961/1961 [==============================] - 2s 1ms/step - loss: 0.8038 - acc: 0.7119 - val_loss: 3.2197 - val_acc: 0.4612\n",
      "Epoch 66/100\n",
      "1961/1961 [==============================] - 2s 1ms/step - loss: 0.7875 - acc: 0.7114 - val_loss: 3.4299 - val_acc: 0.4245\n",
      "Epoch 67/100\n",
      "1961/1961 [==============================] - 2s 1ms/step - loss: 0.7454 - acc: 0.7374 - val_loss: 2.9266 - val_acc: 0.4531\n",
      "Epoch 68/100\n",
      "1961/1961 [==============================] - 2s 1ms/step - loss: 0.7518 - acc: 0.7257 - val_loss: 3.1151 - val_acc: 0.4490\n",
      "Epoch 69/100\n",
      "1961/1961 [==============================] - 2s 1ms/step - loss: 0.6968 - acc: 0.7481 - val_loss: 3.0177 - val_acc: 0.4531\n",
      "Epoch 70/100\n",
      "1961/1961 [==============================] - 2s 1ms/step - loss: 0.6605 - acc: 0.7547 - val_loss: 3.2265 - val_acc: 0.4653\n",
      "Epoch 71/100\n",
      "1961/1961 [==============================] - 2s 1ms/step - loss: 0.7640 - acc: 0.7200 - val_loss: 2.6663 - val_acc: 0.5265\n",
      "Epoch 72/100\n",
      "1961/1961 [==============================] - 2s 1ms/step - loss: 0.6596 - acc: 0.7578 - val_loss: 3.1820 - val_acc: 0.4531\n",
      "Epoch 73/100\n",
      "1961/1961 [==============================] - 2s 1ms/step - loss: 0.6122 - acc: 0.7705 - val_loss: 3.0895 - val_acc: 0.4490\n",
      "Epoch 74/100\n",
      "1961/1961 [==============================] - 2s 1ms/step - loss: 0.6201 - acc: 0.7817 - val_loss: 3.1890 - val_acc: 0.4612\n",
      "Epoch 75/100\n",
      "1961/1961 [==============================] - 2s 1ms/step - loss: 0.5853 - acc: 0.7843 - val_loss: 3.2758 - val_acc: 0.4571\n",
      "Epoch 76/100\n",
      "1961/1961 [==============================] - 2s 1ms/step - loss: 0.5337 - acc: 0.8016 - val_loss: 3.5091 - val_acc: 0.4694\n",
      "Epoch 77/100\n",
      "1961/1961 [==============================] - 2s 1ms/step - loss: 0.5809 - acc: 0.7868 - val_loss: 3.5648 - val_acc: 0.4408\n",
      "Epoch 78/100\n",
      "1961/1961 [==============================] - 2s 1ms/step - loss: 0.5490 - acc: 0.7955 - val_loss: 3.8630 - val_acc: 0.4531\n",
      "Epoch 79/100\n",
      "1961/1961 [==============================] - 2s 1ms/step - loss: 0.5761 - acc: 0.7986 - val_loss: 3.5014 - val_acc: 0.4939\n",
      "Epoch 80/100\n",
      "1961/1961 [==============================] - 2s 1ms/step - loss: 0.6185 - acc: 0.7710 - val_loss: 3.6346 - val_acc: 0.4449\n",
      "Epoch 81/100\n",
      "1961/1961 [==============================] - 2s 1ms/step - loss: 0.5771 - acc: 0.7976 - val_loss: 3.0264 - val_acc: 0.4735\n",
      "Epoch 82/100\n",
      "1961/1961 [==============================] - 2s 1ms/step - loss: 0.5593 - acc: 0.7945 - val_loss: 3.3648 - val_acc: 0.4612\n",
      "Epoch 83/100\n",
      "1961/1961 [==============================] - 3s 2ms/step - loss: 0.5409 - acc: 0.8067 - val_loss: 3.3772 - val_acc: 0.4612\n",
      "Epoch 84/100\n",
      "1961/1961 [==============================] - 2s 1ms/step - loss: 0.5191 - acc: 0.8190 - val_loss: 3.2522 - val_acc: 0.4612\n",
      "Epoch 85/100\n",
      "1961/1961 [==============================] - 3s 1ms/step - loss: 0.7453 - acc: 0.7404 - val_loss: 2.5299 - val_acc: 0.5143\n",
      "Epoch 86/100\n",
      "1961/1961 [==============================] - 3s 1ms/step - loss: 0.5816 - acc: 0.8001 - val_loss: 2.9030 - val_acc: 0.5102\n",
      "Epoch 87/100\n",
      "1961/1961 [==============================] - 3s 2ms/step - loss: 1.0026 - acc: 0.6864 - val_loss: 2.5463 - val_acc: 0.5061\n",
      "Epoch 88/100\n",
      "1961/1961 [==============================] - 3s 2ms/step - loss: 0.6681 - acc: 0.7593 - val_loss: 2.9674 - val_acc: 0.4816\n",
      "Epoch 89/100\n",
      "1961/1961 [==============================] - 3s 2ms/step - loss: 0.5482 - acc: 0.7874 - val_loss: 3.3299 - val_acc: 0.4571\n",
      "Epoch 90/100\n",
      "1961/1961 [==============================] - 3s 1ms/step - loss: 0.4931 - acc: 0.8271 - val_loss: 3.6849 - val_acc: 0.4490\n",
      "Epoch 91/100\n",
      "1961/1961 [==============================] - 3s 1ms/step - loss: 0.4834 - acc: 0.8256 - val_loss: 3.6834 - val_acc: 0.4612\n",
      "Epoch 92/100\n",
      "1961/1961 [==============================] - 3s 1ms/step - loss: 0.4724 - acc: 0.8276 - val_loss: 3.5739 - val_acc: 0.4939\n",
      "Epoch 93/100\n",
      "1961/1961 [==============================] - 3s 1ms/step - loss: 0.4340 - acc: 0.8465 - val_loss: 3.8758 - val_acc: 0.4694\n",
      "Epoch 94/100\n",
      "1961/1961 [==============================] - 3s 1ms/step - loss: 0.4056 - acc: 0.8582 - val_loss: 4.2547 - val_acc: 0.4857\n",
      "Epoch 95/100\n",
      "1961/1961 [==============================] - 3s 1ms/step - loss: 0.4030 - acc: 0.8577 - val_loss: 3.9995 - val_acc: 0.4694\n",
      "Epoch 96/100\n",
      "1961/1961 [==============================] - 3s 1ms/step - loss: 0.3823 - acc: 0.8638 - val_loss: 4.1327 - val_acc: 0.4694\n",
      "Epoch 97/100\n",
      "1961/1961 [==============================] - 3s 1ms/step - loss: 0.4022 - acc: 0.8633 - val_loss: 4.1853 - val_acc: 0.4490\n",
      "Epoch 98/100\n",
      "1961/1961 [==============================] - 3s 1ms/step - loss: 0.4581 - acc: 0.8455 - val_loss: 4.3612 - val_acc: 0.4531\n",
      "Epoch 99/100\n",
      "1961/1961 [==============================] - 3s 1ms/step - loss: 0.4019 - acc: 0.8572 - val_loss: 4.4180 - val_acc: 0.4653\n",
      "Epoch 100/100\n",
      "1961/1961 [==============================] - 3s 1ms/step - loss: 0.3539 - acc: 0.8705 - val_loss: 4.2168 - val_acc: 0.4571\n"
     ]
    }
   ],
   "source": [
    "model_A = create_model_LSTM()\n",
    "history = model_A.fit(np.expand_dims(data[:training_samples],-1), labels_categorical[:training_samples], validation_data=(np.expand_dims(data[training_samples:training_samples+validation_samples], -1), labels_categorical[training_samples:training_samples+validation_samples]), epochs=100, shuffle=True)"
   ]
  },
  {
   "cell_type": "code",
   "execution_count": 19,
   "metadata": {},
   "outputs": [
    {
     "data": {
      "text/plain": [
       "<matplotlib.legend.Legend at 0x7f6cd45de9e8>"
      ]
     },
     "execution_count": 19,
     "metadata": {},
     "output_type": "execute_result"
    },
    {
     "data": {
      "image/png": "[encoded data removed]",
      "text/plain": [
       "<Figure size 432x288 with 1 Axes>"
      ]
     },
     "metadata": {},
     "output_type": "display_data"
    }
   ],
   "source": [
    "loss = history.history['loss']\n",
    "val_loss = history.history['val_loss']\n",
    "\n",
    "epochs = range(1, len(loss) + 1)\n",
    "\n",
    "plt.plot(epochs, loss, 'ro', label='Training loss')\n",
    "plt.plot(epochs, val_loss, 'b', label='Validation loss')\n",
    "plt.title('Training and validation loss')\n",
    "plt.xlabel('Epochs')\n",
    "plt.ylabel('Loss')\n",
    "plt.legend()\n",
    "\n",
    "# plt.show()"
   ]
  },
  {
   "cell_type": "code",
   "execution_count": 29,
   "metadata": {},
   "outputs": [
    {
     "data": {
      "image/png": "[encoded data removed]",
      "text/plain": [
       "<Figure size 432x288 with 1 Axes>"
      ]
     },
     "metadata": {},
     "output_type": "display_data"
    }
   ],
   "source": [
    "plt.clf()                                                \n",
    "\n",
    "acc = history.history['acc']\n",
    "val_acc = history.history['val_acc']\n",
    "\n",
    "plt.plot(epochs, acc, 'ro', label='Training acc')\n",
    "plt.plot(epochs, val_acc, 'b', label='Validation acc')\n",
    "plt.title('Training and validation accuracy')\n",
    "plt.xlabel('Epochs')\n",
    "plt.ylabel('acc')\n",
    "plt.legend()\n",
    "\n",
    "plt.show()"
   ]
  },
  {
   "cell_type": "code",
   "execution_count": 30,
   "metadata": {},
   "outputs": [
    {
     "name": "stdout",
     "output_type": "stream",
     "text": [
      "124/124 [==============================] - 0s 601us/step\n"
     ]
    },
    {
     "data": {
      "text/plain": [
       "[1.9765283907613447, 0.701612901303076]"
      ]
     },
     "execution_count": 30,
     "metadata": {},
     "output_type": "execute_result"
    }
   ],
   "source": [
    "### evaluate using model A\n",
    "model_A.evaluate(np.expand_dims(data[training_samples + validation_samples:], -1), labels_categorical[training_samples + validation_samples:])"
   ]
  },
  {
   "cell_type": "code",
   "execution_count": 20,
   "metadata": {},
   "outputs": [],
   "source": [
    "def new_CNN():\n",
    "    ### CNN model, referred to the model C in the report\n",
    "    model = Sequential()\n",
    "    model.add(Conv1D(8, 5,padding='same', input_shape=(40, 1)))\n",
    "    model.add(Activation('relu'))\n",
    "    model.add(Conv1D(16, 5,padding='same'))\n",
    "    model.add(Activation('relu'))\n",
    "    model.add(Dropout(0.1))\n",
    "    model.add(MaxPooling1D(pool_size=(8)))\n",
    "    model.add(Conv1D(32, 5,padding='same',))\n",
    "    model.add(Activation('relu'))\n",
    "    model.add(Dropout(0.2))\n",
    "    model.add(Conv1D(16, 5,padding='same',))\n",
    "    model.add(Activation('relu'))\n",
    "    model.add(Flatten())\n",
    "    model.add(Dense(8))\n",
    "    model.add(Activation('softmax'))\n",
    "    opt = rmsprop(lr=0.00001, decay=1e-6)\n",
    "    model.compile(loss='categorical_crossentropy', optimizer='Adam',metrics=['accuracy'])\n",
    "    return model\n"
   ]
  },
  {
   "cell_type": "code",
   "execution_count": 21,
   "metadata": {},
   "outputs": [
    {
     "name": "stdout",
     "output_type": "stream",
     "text": [
      "Train on 1961 samples, validate on 245 samples\n",
      "Epoch 1/100\n",
      "1961/1961 [==============================] - 0s 247us/step - loss: 3.2733 - acc: 0.1346 - val_loss: 2.0113 - val_acc: 0.1673\n",
      "Epoch 2/100\n",
      "1961/1961 [==============================] - 0s 159us/step - loss: 2.1102 - acc: 0.1591 - val_loss: 1.9494 - val_acc: 0.1796\n",
      "Epoch 3/100\n",
      "1961/1961 [==============================] - 0s 163us/step - loss: 2.0322 - acc: 0.1790 - val_loss: 1.8966 - val_acc: 0.2980\n",
      "Epoch 4/100\n",
      "1961/1961 [==============================] - 0s 147us/step - loss: 1.9989 - acc: 0.2121 - val_loss: 1.8272 - val_acc: 0.2735\n",
      "Epoch 5/100\n",
      "1961/1961 [==============================] - 0s 137us/step - loss: 1.9548 - acc: 0.2305 - val_loss: 1.8251 - val_acc: 0.2408\n",
      "Epoch 6/100\n",
      "1961/1961 [==============================] - 0s 149us/step - loss: 1.9125 - acc: 0.2376 - val_loss: 1.7206 - val_acc: 0.2735\n",
      "Epoch 7/100\n",
      "1961/1961 [==============================] - 0s 139us/step - loss: 1.8659 - acc: 0.2642 - val_loss: 1.6608 - val_acc: 0.3837\n",
      "Epoch 8/100\n",
      "1961/1961 [==============================] - 0s 144us/step - loss: 1.8092 - acc: 0.2912 - val_loss: 1.5776 - val_acc: 0.3837\n",
      "Epoch 9/100\n",
      "1961/1961 [==============================] - 0s 144us/step - loss: 1.8084 - acc: 0.2932 - val_loss: 1.6104 - val_acc: 0.3102\n",
      "Epoch 10/100\n",
      "1961/1961 [==============================] - 0s 139us/step - loss: 1.7616 - acc: 0.3233 - val_loss: 1.5178 - val_acc: 0.4449\n",
      "Epoch 11/100\n",
      "1961/1961 [==============================] - 0s 144us/step - loss: 1.7211 - acc: 0.3401 - val_loss: 1.4553 - val_acc: 0.5265\n",
      "Epoch 12/100\n",
      "1961/1961 [==============================] - 0s 148us/step - loss: 1.7040 - acc: 0.3483 - val_loss: 1.4053 - val_acc: 0.5347\n",
      "Epoch 13/100\n",
      "1961/1961 [==============================] - 0s 148us/step - loss: 1.6746 - acc: 0.3626 - val_loss: 1.3226 - val_acc: 0.5510\n",
      "Epoch 14/100\n",
      "1961/1961 [==============================] - 0s 144us/step - loss: 1.6321 - acc: 0.3774 - val_loss: 1.3035 - val_acc: 0.5714\n",
      "Epoch 15/100\n",
      "1961/1961 [==============================] - 0s 143us/step - loss: 1.6368 - acc: 0.3646 - val_loss: 1.3231 - val_acc: 0.5429\n",
      "Epoch 16/100\n",
      "1961/1961 [==============================] - 0s 145us/step - loss: 1.5941 - acc: 0.3717 - val_loss: 1.2554 - val_acc: 0.5551\n",
      "Epoch 17/100\n",
      "1961/1961 [==============================] - 0s 145us/step - loss: 1.5632 - acc: 0.3942 - val_loss: 1.2717 - val_acc: 0.5592\n",
      "Epoch 18/100\n",
      "1961/1961 [==============================] - 0s 139us/step - loss: 1.5377 - acc: 0.4187 - val_loss: 1.3004 - val_acc: 0.5347\n",
      "Epoch 19/100\n",
      "1961/1961 [==============================] - 0s 148us/step - loss: 1.5135 - acc: 0.4207 - val_loss: 1.1956 - val_acc: 0.5755\n",
      "Epoch 20/100\n",
      "1961/1961 [==============================] - 0s 137us/step - loss: 1.5106 - acc: 0.4284 - val_loss: 1.2433 - val_acc: 0.5796\n",
      "Epoch 21/100\n",
      "1961/1961 [==============================] - 0s 143us/step - loss: 1.4826 - acc: 0.4345 - val_loss: 1.2191 - val_acc: 0.5673\n",
      "Epoch 22/100\n",
      "1961/1961 [==============================] - 0s 150us/step - loss: 1.4686 - acc: 0.4396 - val_loss: 1.1941 - val_acc: 0.5755\n",
      "Epoch 23/100\n",
      "1961/1961 [==============================] - 0s 140us/step - loss: 1.4340 - acc: 0.4656 - val_loss: 1.1411 - val_acc: 0.5510\n",
      "Epoch 24/100\n",
      "1961/1961 [==============================] - 0s 148us/step - loss: 1.4401 - acc: 0.4513 - val_loss: 1.1461 - val_acc: 0.5429\n",
      "Epoch 25/100\n",
      "1961/1961 [==============================] - 0s 149us/step - loss: 1.3971 - acc: 0.4564 - val_loss: 1.1990 - val_acc: 0.5796\n",
      "Epoch 26/100\n",
      "1961/1961 [==============================] - 0s 145us/step - loss: 1.4117 - acc: 0.4579 - val_loss: 1.0986 - val_acc: 0.5878\n",
      "Epoch 27/100\n",
      "1961/1961 [==============================] - 0s 151us/step - loss: 1.4074 - acc: 0.4737 - val_loss: 1.1184 - val_acc: 0.5918\n",
      "Epoch 28/100\n",
      "1961/1961 [==============================] - 0s 147us/step - loss: 1.3700 - acc: 0.4809 - val_loss: 1.0917 - val_acc: 0.5837\n",
      "Epoch 29/100\n",
      "1961/1961 [==============================] - 0s 144us/step - loss: 1.3732 - acc: 0.4722 - val_loss: 1.1507 - val_acc: 0.5837\n",
      "Epoch 30/100\n",
      "1961/1961 [==============================] - 0s 146us/step - loss: 1.3554 - acc: 0.4799 - val_loss: 1.1063 - val_acc: 0.5755\n",
      "Epoch 31/100\n",
      "1961/1961 [==============================] - 0s 146us/step - loss: 1.3378 - acc: 0.4834 - val_loss: 1.1203 - val_acc: 0.5918\n",
      "Epoch 32/100\n",
      "1961/1961 [==============================] - 0s 150us/step - loss: 1.3232 - acc: 0.5115 - val_loss: 1.1333 - val_acc: 0.5469\n",
      "Epoch 33/100\n",
      "1961/1961 [==============================] - 0s 141us/step - loss: 1.2915 - acc: 0.5145 - val_loss: 1.0904 - val_acc: 0.5388\n",
      "Epoch 34/100\n",
      "1961/1961 [==============================] - 0s 151us/step - loss: 1.2981 - acc: 0.5130 - val_loss: 1.1248 - val_acc: 0.5878\n",
      "Epoch 35/100\n",
      "1961/1961 [==============================] - 0s 152us/step - loss: 1.2567 - acc: 0.5232 - val_loss: 1.1333 - val_acc: 0.5918\n",
      "Epoch 36/100\n",
      "1961/1961 [==============================] - 0s 149us/step - loss: 1.2770 - acc: 0.5084 - val_loss: 1.0656 - val_acc: 0.5837\n",
      "Epoch 37/100\n",
      "1961/1961 [==============================] - 0s 153us/step - loss: 1.2617 - acc: 0.5196 - val_loss: 1.0605 - val_acc: 0.6082\n",
      "Epoch 38/100\n",
      "1961/1961 [==============================] - 0s 151us/step - loss: 1.2572 - acc: 0.5309 - val_loss: 1.1313 - val_acc: 0.5796\n",
      "Epoch 39/100\n",
      "1961/1961 [==============================] - 0s 150us/step - loss: 1.1966 - acc: 0.5482 - val_loss: 1.0347 - val_acc: 0.5918\n",
      "Epoch 40/100\n",
      "1961/1961 [==============================] - 0s 157us/step - loss: 1.2390 - acc: 0.5319 - val_loss: 1.0979 - val_acc: 0.5878\n",
      "Epoch 41/100\n",
      "1961/1961 [==============================] - 0s 155us/step - loss: 1.2135 - acc: 0.5405 - val_loss: 1.1218 - val_acc: 0.5673\n",
      "Epoch 42/100\n",
      "1961/1961 [==============================] - 0s 151us/step - loss: 1.2147 - acc: 0.5482 - val_loss: 1.1347 - val_acc: 0.5388\n",
      "Epoch 43/100\n",
      "1961/1961 [==============================] - 0s 154us/step - loss: 1.1911 - acc: 0.5487 - val_loss: 1.1209 - val_acc: 0.5306\n",
      "Epoch 44/100\n",
      "1961/1961 [==============================] - 0s 161us/step - loss: 1.2083 - acc: 0.5507 - val_loss: 1.1314 - val_acc: 0.5429\n",
      "Epoch 45/100\n",
      "1961/1961 [==============================] - 0s 228us/step - loss: 1.1829 - acc: 0.5543 - val_loss: 1.0737 - val_acc: 0.5878\n",
      "Epoch 46/100\n",
      "1961/1961 [==============================] - 0s 155us/step - loss: 1.1885 - acc: 0.5640 - val_loss: 1.0930 - val_acc: 0.5592\n",
      "Epoch 47/100\n",
      "1961/1961 [==============================] - 0s 162us/step - loss: 1.1847 - acc: 0.5620 - val_loss: 1.1403 - val_acc: 0.5388\n",
      "Epoch 48/100\n",
      "1961/1961 [==============================] - 0s 157us/step - loss: 1.1711 - acc: 0.5686 - val_loss: 1.1275 - val_acc: 0.5510\n",
      "Epoch 49/100\n",
      "1961/1961 [==============================] - 0s 161us/step - loss: 1.1547 - acc: 0.5686 - val_loss: 1.0515 - val_acc: 0.5673\n",
      "Epoch 50/100\n",
      "1961/1961 [==============================] - 0s 159us/step - loss: 1.1416 - acc: 0.5808 - val_loss: 1.1471 - val_acc: 0.5592\n",
      "Epoch 51/100\n",
      "1961/1961 [==============================] - 0s 171us/step - loss: 1.1217 - acc: 0.5956 - val_loss: 1.1798 - val_acc: 0.5224\n",
      "Epoch 52/100\n",
      "1961/1961 [==============================] - 0s 167us/step - loss: 1.1559 - acc: 0.5727 - val_loss: 1.1781 - val_acc: 0.5347\n",
      "Epoch 53/100\n",
      "1961/1961 [==============================] - 0s 155us/step - loss: 1.1063 - acc: 0.5880 - val_loss: 1.1254 - val_acc: 0.5388\n",
      "Epoch 54/100\n",
      "1961/1961 [==============================] - 0s 158us/step - loss: 1.1234 - acc: 0.5869 - val_loss: 1.1048 - val_acc: 0.5306\n",
      "Epoch 55/100\n",
      "1961/1961 [==============================] - 0s 157us/step - loss: 1.0916 - acc: 0.5920 - val_loss: 1.0643 - val_acc: 0.5796\n",
      "Epoch 56/100\n",
      "1961/1961 [==============================] - 0s 213us/step - loss: 1.0855 - acc: 0.5895 - val_loss: 1.1430 - val_acc: 0.5347\n",
      "Epoch 57/100\n",
      "1961/1961 [==============================] - 0s 156us/step - loss: 1.0892 - acc: 0.5946 - val_loss: 1.1338 - val_acc: 0.5673\n",
      "Epoch 58/100\n",
      "1961/1961 [==============================] - 0s 160us/step - loss: 1.0949 - acc: 0.5844 - val_loss: 1.1420 - val_acc: 0.5510\n",
      "Epoch 59/100\n",
      "1961/1961 [==============================] - 0s 165us/step - loss: 1.0695 - acc: 0.5926 - val_loss: 1.1457 - val_acc: 0.5388\n",
      "Epoch 60/100\n"
     ]
    },
    {
     "name": "stdout",
     "output_type": "stream",
     "text": [
      "1961/1961 [==============================] - 0s 147us/step - loss: 1.0935 - acc: 0.5905 - val_loss: 1.1526 - val_acc: 0.5469\n",
      "Epoch 61/100\n",
      "1961/1961 [==============================] - 0s 143us/step - loss: 1.0832 - acc: 0.5859 - val_loss: 1.2618 - val_acc: 0.5429\n",
      "Epoch 62/100\n",
      "1961/1961 [==============================] - 0s 141us/step - loss: 1.0705 - acc: 0.6063 - val_loss: 1.2010 - val_acc: 0.5224\n",
      "Epoch 63/100\n",
      "1961/1961 [==============================] - 0s 144us/step - loss: 1.0508 - acc: 0.6114 - val_loss: 1.2545 - val_acc: 0.5388\n",
      "Epoch 64/100\n",
      "1961/1961 [==============================] - 0s 139us/step - loss: 1.0606 - acc: 0.6002 - val_loss: 1.1455 - val_acc: 0.5388\n",
      "Epoch 65/100\n",
      "1961/1961 [==============================] - 0s 141us/step - loss: 1.0383 - acc: 0.6130 - val_loss: 1.1293 - val_acc: 0.5469\n",
      "Epoch 66/100\n",
      "1961/1961 [==============================] - 0s 146us/step - loss: 1.0234 - acc: 0.6099 - val_loss: 1.1312 - val_acc: 0.5224\n",
      "Epoch 67/100\n",
      "1961/1961 [==============================] - 0s 144us/step - loss: 0.9797 - acc: 0.6272 - val_loss: 1.1857 - val_acc: 0.5633\n",
      "Epoch 68/100\n",
      "1961/1961 [==============================] - 0s 138us/step - loss: 1.0518 - acc: 0.6094 - val_loss: 1.1748 - val_acc: 0.5592\n",
      "Epoch 69/100\n",
      "1961/1961 [==============================] - 0s 148us/step - loss: 1.0226 - acc: 0.6247 - val_loss: 1.1950 - val_acc: 0.5224\n",
      "Epoch 70/100\n",
      "1961/1961 [==============================] - 0s 148us/step - loss: 1.0015 - acc: 0.6226 - val_loss: 1.1827 - val_acc: 0.4939\n",
      "Epoch 71/100\n",
      "1961/1961 [==============================] - 0s 140us/step - loss: 1.0204 - acc: 0.6073 - val_loss: 1.1377 - val_acc: 0.5347\n",
      "Epoch 72/100\n",
      "1961/1961 [==============================] - 0s 139us/step - loss: 0.9776 - acc: 0.6420 - val_loss: 1.2066 - val_acc: 0.5429\n",
      "Epoch 73/100\n",
      "1961/1961 [==============================] - 0s 154us/step - loss: 0.9826 - acc: 0.6456 - val_loss: 1.3081 - val_acc: 0.5347\n",
      "Epoch 74/100\n",
      "1961/1961 [==============================] - 0s 147us/step - loss: 0.9866 - acc: 0.6262 - val_loss: 1.1543 - val_acc: 0.5592\n",
      "Epoch 75/100\n",
      "1961/1961 [==============================] - 0s 145us/step - loss: 0.9767 - acc: 0.6277 - val_loss: 1.2660 - val_acc: 0.5102\n",
      "Epoch 76/100\n",
      "1961/1961 [==============================] - 0s 147us/step - loss: 0.9702 - acc: 0.6369 - val_loss: 1.1702 - val_acc: 0.5510\n",
      "Epoch 77/100\n",
      "1961/1961 [==============================] - 0s 145us/step - loss: 1.0085 - acc: 0.6252 - val_loss: 1.2475 - val_acc: 0.5265\n",
      "Epoch 78/100\n",
      "1961/1961 [==============================] - 0s 142us/step - loss: 0.9687 - acc: 0.6369 - val_loss: 1.3476 - val_acc: 0.5306\n",
      "Epoch 79/100\n",
      "1961/1961 [==============================] - 0s 145us/step - loss: 0.9522 - acc: 0.6435 - val_loss: 1.3007 - val_acc: 0.5306\n",
      "Epoch 80/100\n",
      "1961/1961 [==============================] - 0s 156us/step - loss: 0.9540 - acc: 0.6476 - val_loss: 1.2255 - val_acc: 0.5306\n",
      "Epoch 81/100\n",
      "1961/1961 [==============================] - 0s 145us/step - loss: 0.9657 - acc: 0.6451 - val_loss: 1.1754 - val_acc: 0.5714\n",
      "Epoch 82/100\n",
      "1961/1961 [==============================] - 0s 144us/step - loss: 0.9464 - acc: 0.6512 - val_loss: 1.1989 - val_acc: 0.5469\n",
      "Epoch 83/100\n",
      "1961/1961 [==============================] - 0s 150us/step - loss: 0.9482 - acc: 0.6430 - val_loss: 1.2163 - val_acc: 0.5469\n",
      "Epoch 84/100\n",
      "1961/1961 [==============================] - 0s 141us/step - loss: 0.9142 - acc: 0.6655 - val_loss: 1.4058 - val_acc: 0.5020\n",
      "Epoch 85/100\n",
      "1961/1961 [==============================] - 0s 143us/step - loss: 0.9365 - acc: 0.6543 - val_loss: 1.3260 - val_acc: 0.5469\n",
      "Epoch 86/100\n",
      "1961/1961 [==============================] - 0s 145us/step - loss: 0.9071 - acc: 0.6736 - val_loss: 1.3727 - val_acc: 0.4980\n",
      "Epoch 87/100\n",
      "1961/1961 [==============================] - 0s 154us/step - loss: 0.9275 - acc: 0.6420 - val_loss: 1.2671 - val_acc: 0.5143\n",
      "Epoch 88/100\n",
      "1961/1961 [==============================] - 0s 142us/step - loss: 0.9133 - acc: 0.6645 - val_loss: 1.3430 - val_acc: 0.5347\n",
      "Epoch 89/100\n",
      "1961/1961 [==============================] - 0s 144us/step - loss: 0.8936 - acc: 0.6507 - val_loss: 1.3587 - val_acc: 0.5306\n",
      "Epoch 90/100\n",
      "1961/1961 [==============================] - 0s 145us/step - loss: 0.8925 - acc: 0.6757 - val_loss: 1.2756 - val_acc: 0.5347\n",
      "Epoch 91/100\n",
      "1961/1961 [==============================] - 0s 147us/step - loss: 0.9018 - acc: 0.6512 - val_loss: 1.4336 - val_acc: 0.5306\n",
      "Epoch 92/100\n",
      "1961/1961 [==============================] - 0s 146us/step - loss: 0.8933 - acc: 0.6655 - val_loss: 1.3084 - val_acc: 0.5102\n",
      "Epoch 93/100\n",
      "1961/1961 [==============================] - 0s 144us/step - loss: 0.8938 - acc: 0.6614 - val_loss: 1.3970 - val_acc: 0.5224\n",
      "Epoch 94/100\n",
      "1961/1961 [==============================] - 0s 187us/step - loss: 0.8772 - acc: 0.6660 - val_loss: 1.2690 - val_acc: 0.5429\n",
      "Epoch 95/100\n",
      "1961/1961 [==============================] - 0s 142us/step - loss: 0.8882 - acc: 0.6716 - val_loss: 1.3195 - val_acc: 0.5388\n",
      "Epoch 96/100\n",
      "1961/1961 [==============================] - 0s 150us/step - loss: 0.9027 - acc: 0.6721 - val_loss: 1.3468 - val_acc: 0.5184\n",
      "Epoch 97/100\n",
      "1961/1961 [==============================] - 0s 149us/step - loss: 0.8599 - acc: 0.6747 - val_loss: 1.3987 - val_acc: 0.5429\n",
      "Epoch 98/100\n",
      "1961/1961 [==============================] - 0s 146us/step - loss: 0.8517 - acc: 0.6849 - val_loss: 1.3775 - val_acc: 0.5551\n",
      "Epoch 99/100\n",
      "1961/1961 [==============================] - 0s 145us/step - loss: 0.8433 - acc: 0.6823 - val_loss: 1.3971 - val_acc: 0.5429\n",
      "Epoch 100/100\n",
      "1961/1961 [==============================] - 0s 146us/step - loss: 0.8517 - acc: 0.6787 - val_loss: 1.2907 - val_acc: 0.5510\n"
     ]
    }
   ],
   "source": [
    "model_C = new_CNN()\n",
    "history = model_C.fit(np.expand_dims(data[:training_samples],-1), labels_categorical[:training_samples], validation_data=(np.expand_dims(data[training_samples:training_samples+validation_samples], -1), labels_categorical[training_samples:training_samples+validation_samples]), epochs=100, shuffle=True)"
   ]
  },
  {
   "cell_type": "code",
   "execution_count": 24,
   "metadata": {},
   "outputs": [
    {
     "data": {
      "image/png": "[encoded data removed]",
      "text/plain": [
       "<Figure size 432x288 with 1 Axes>"
      ]
     },
     "metadata": {},
     "output_type": "display_data"
    }
   ],
   "source": [
    "### loss plots using model C\n",
    "loss = history.history['loss']\n",
    "val_loss = history.history['val_loss']\n",
    "\n",
    "epochs = range(1, len(loss) + 1)\n",
    "\n",
    "plt.plot(epochs, loss, 'ro', label='Training loss')\n",
    "plt.plot(epochs, val_loss, 'b', label='Validation loss')\n",
    "plt.title('Training and validation loss')\n",
    "plt.xlabel('Epochs')\n",
    "plt.ylabel('loss')\n",
    "plt.legend()\n",
    "\n",
    "plt.show()"
   ]
  },
  {
   "cell_type": "code",
   "execution_count": 23,
   "metadata": {},
   "outputs": [
    {
     "data": {
      "image/png": "[encoded data removed]",
      "text/plain": [
       "<Figure size 432x288 with 1 Axes>"
      ]
     },
     "metadata": {},
     "output_type": "display_data"
    }
   ],
   "source": [
    "plt.clf()                                                \n",
    "\n",
    "acc = history.history['acc']\n",
    "val_acc = history.history['val_acc']\n",
    "\n",
    "plt.plot(epochs, acc, 'ro', label='Training acc')\n",
    "plt.plot(epochs, val_acc, 'b', label='Validation acc')\n",
    "plt.title('Training and validation accuracy')\n",
    "plt.xlabel('Epochs')\n",
    "plt.ylabel('acc')\n",
    "plt.legend()\n",
    "\n",
    "plt.show()"
   ]
  },
  {
   "cell_type": "code",
   "execution_count": null,
   "metadata": {},
   "outputs": [],
   "source": []
  }
 ],
 "metadata": {
  "kernelspec": {
   "display_name": "Python 3",
   "language": "python",
   "name": "python3"
  },
  "language_info": {
   "codemirror_mode": {
    "name": "ipython",
    "version": 3
   },
   "file_extension": ".py",
   "mimetype": "text/x-python",
   "name": "python",
   "nbconvert_exporter": "python",
   "pygments_lexer": "ipython3",
   "version": "3.5.2"
  }
 },
 "nbformat": 4,
 "nbformat_minor": 2
}
