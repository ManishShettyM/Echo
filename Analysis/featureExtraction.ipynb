{
 "cells": [
  {
   "cell_type": "code",
   "execution_count": 51,
   "metadata": {},
   "outputs": [],
   "source": [
    "import os\n",
    "import librosa\n",
    "import numpy as np\n",
    "import pandas as pd"
   ]
  },
  {
   "cell_type": "code",
   "execution_count": 15,
   "metadata": {},
   "outputs": [],
   "source": [
    "path = \"../Dataset/Audio_Speech_Actors_01-24\"\n",
    "maleFiles = []\n",
    "femaleFiles = []\n",
    "for root,dirs,files in os.walk(path):\n",
    "    if(len(files)>0):\n",
    "        for file in files:\n",
    "            if(int(file.split(\".\")[0].split(\"-\")[-1]) % 2 == 0):\n",
    "                femaleFiles.append(root+\"/\"+file)\n",
    "            else:\n",
    "                maleFiles.append(root+\"/\"+file)"
   ]
  },
  {
   "cell_type": "code",
   "execution_count": 48,
   "metadata": {},
   "outputs": [
    {
     "name": "stdout",
     "output_type": "stream",
     "text": [
      "720\n",
      "720\n"
     ]
    }
   ],
   "source": [
    "print(len(femaleFiles))\n",
    "print(len(maleFiles))"
   ]
  },
  {
   "cell_type": "code",
   "execution_count": 45,
   "metadata": {},
   "outputs": [],
   "source": [
    "def extractFeatures(files):\n",
    "    MFCC = []\n",
    "    for file in files:\n",
    "        X, sample_rate = librosa.load(file,sr=8000)\n",
    "        MFCC.append(np.mean(librosa.feature.mfcc(y=X,sr=2000,n_mfcc=20).T,axis=0))\n",
    "    return MFCC"
   ]
  },
  {
   "cell_type": "code",
   "execution_count": 46,
   "metadata": {},
   "outputs": [],
   "source": [
    "maleMFCC = extractFeatures(maleFiles)\n",
    "femaleMFCC = extractFeatures(femaleFiles)"
   ]
  },
  {
   "cell_type": "code",
   "execution_count": 67,
   "metadata": {},
   "outputs": [
    {
     "name": "stdout",
     "output_type": "stream",
     "text": [
      "720\n",
      "720\n"
     ]
    }
   ],
   "source": [
    "print(len(maleMFCC))\n",
    "print(len(femaleMFCC))"
   ]
  },
  {
   "cell_type": "code",
   "execution_count": 68,
   "metadata": {},
   "outputs": [],
   "source": [
    "for i in range(0,len(maleMFCC)):\n",
    "    maleMFCC[i] = np.append(maleMFCC[i],1)\n",
    "    femaleMFCC[i] = np.append(femaleMFCC[i],0)"
   ]
  },
  {
   "cell_type": "code",
   "execution_count": 70,
   "metadata": {},
   "outputs": [],
   "source": [
    "mfccList = maleMFCC+femaleMFCC"
   ]
  },
  {
   "cell_type": "code",
   "execution_count": 71,
   "metadata": {},
   "outputs": [],
   "source": [
    "df = pd.DataFrame(mfccList)"
   ]
  },
  {
   "cell_type": "code",
   "execution_count": 73,
   "metadata": {},
   "outputs": [],
   "source": [
    "columns = []\n",
    "for i in range(0,20):\n",
    "    columns.append('feature'+str(i+1))\n",
    "columns.append('label')"
   ]
  },
  {
   "cell_type": "code",
   "execution_count": 74,
   "metadata": {},
   "outputs": [],
   "source": [
    "df.columns = columns"
   ]
  },
  {
   "cell_type": "code",
   "execution_count": 75,
   "metadata": {},
   "outputs": [],
   "source": [
    "df.to_csv(\"/home/nishant/Documents/sem6/ML Project/Echo/Dataset/mfccFeatures.csv\")"
   ]
  }
 ],
 "metadata": {
  "kernelspec": {
   "display_name": "Python 3",
   "language": "python",
   "name": "python3"
  },
  "language_info": {
   "codemirror_mode": {
    "name": "ipython",
    "version": 3
   },
   "file_extension": ".py",
   "mimetype": "text/x-python",
   "name": "python",
   "nbconvert_exporter": "python",
   "pygments_lexer": "ipython3",
   "version": "3.5.2"
  }
 },
 "nbformat": 4,
 "nbformat_minor": 2
}
