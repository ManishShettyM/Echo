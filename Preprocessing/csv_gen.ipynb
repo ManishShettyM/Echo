{
 "cells": [
  {
   "cell_type": "code",
   "execution_count": 1,
   "metadata": {},
   "outputs": [],
   "source": [
    "import csv\n",
    "import matplotlib.pyplot as plt\n",
    "import wave\n",
    "import librosa\n",
    "import numpy as np\n",
    "import pandas as pd\n",
    "import os"
   ]
  },
  {
   "cell_type": "code",
   "execution_count": 5,
   "metadata": {},
   "outputs": [],
   "source": [
    "destpdir = \"../../CSVs/\"\n",
    "if not os.path.exists(destpdir):\n",
    "        os.makedirs(destpdir)"
   ]
  },
  {
   "cell_type": "code",
   "execution_count": 6,
   "metadata": {},
   "outputs": [],
   "source": [
    "for i in range(1,10):\n",
    "    srcdir = \"../Dataset/Audio_Speech_Actors_01-24/Actor_0\"+str(i)\n",
    "    time = []\n",
    "    code = []\n",
    "    amps = []\n",
    "    for root, dirs, files in os.walk(srcdir):  \n",
    "        for filename in files:\n",
    "            # wave_file = wave.open(srcdir+'/'+filename, \"rb\")\n",
    "            # frame_rate = wave_file.getframerate()\n",
    "            data, sampling_rate = librosa.load(srcdir+'/'+filename, sr = 8000)\n",
    "            for j in range(len(data)):\n",
    "                if (data[j] != 0):\n",
    "                    code.append(filename.split(\".\")[0])\n",
    "                    time.append(j+1)\n",
    "                    amps.append(data[j])\n",
    "    code = np.asarray(code)\n",
    "    time = np.asarray(time)\n",
    "    amps = np.asarray(amps)\n",
    "    dictData = {'Code': code, 'Time': time, 'Amplitude': amps}\n",
    "    df = pd.DataFrame(dictData)\n",
    "    df.to_csv('../../CSVs/Actor_0'+str(i)+'.csv', index = False)\n",
    "        \n",
    "for i in range(10,25):\n",
    "    srcdir = \"../Dataset/Audio_Speech_Actors_01-24/Actor_\"+str(i)\n",
    "    time = []\n",
    "    code = []\n",
    "    amps = []\n",
    "    for root, dirs, files in os.walk(srcdir):  \n",
    "        for filename in files:\n",
    "            # wave_file = wave.open(srcdir+'/'+filename, \"rb\")\n",
    "            # frame_rate = wave_file.getframerate()\n",
    "            data, sampling_rate = librosa.load(srcdir+'/'+filename, sr = 8000)\n",
    "            for j in range(len(data)):\n",
    "                if (data[j] != 0):\n",
    "                    code.append(filename.split(\".\")[0])\n",
    "                    time.append(j+1)\n",
    "                    amps.append(data[j])\n",
    "    code = np.asarray(code)\n",
    "    time = np.asarray(time)\n",
    "    amps = np.asarray(amps)\n",
    "    dictData = {'Code': code, 'Time': time, 'Amplitude': amps}\n",
    "    df = pd.DataFrame(dictData)\n",
    "    df.to_csv('../../CSVs/Actor_'+str(i)+'.csv', index = False)"
   ]
  },
  {
   "cell_type": "code",
   "execution_count": null,
   "metadata": {},
   "outputs": [],
   "source": []
  }
 ],
 "metadata": {
  "kernelspec": {
   "display_name": "Python 3",
   "language": "python",
   "name": "python3"
  },
  "language_info": {
   "codemirror_mode": {
    "name": "ipython",
    "version": 3
   },
   "file_extension": ".py",
   "mimetype": "text/x-python",
   "name": "python",
   "nbconvert_exporter": "python",
   "pygments_lexer": "ipython3",
   "version": "3.6.5"
  }
 },
 "nbformat": 4,
 "nbformat_minor": 2
}
