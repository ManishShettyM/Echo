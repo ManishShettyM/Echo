{
 "cells": [
  {
   "cell_type": "code",
   "execution_count": 2,
   "metadata": {},
   "outputs": [],
   "source": [
    "import csv\n",
    "import matplotlib.pyplot as plt\n",
    "import wave\n",
    "import librosa\n",
    "import numpy as np\n",
    "import pandas as pd\n",
    "import os"
   ]
  },
  {
   "cell_type": "code",
   "execution_count": 3,
   "metadata": {},
   "outputs": [],
   "source": [
    "destpdir = \"../../CSVs/\"\n",
    "if not os.path.exists(destpdir):\n",
    "        os.makedirs(destpdir)"
   ]
  },
  {
   "cell_type": "code",
   "execution_count": null,
   "metadata": {},
   "outputs": [],
   "source": [
    "for i in range(1,10):\n",
    "    srcdir = \"../Dataset/Audio_Speech_Actors_01-24/Actor_0\"+str(i)\n",
    "    destdir = \"../../CSVs/Actor_0\"+str(i)+\"/\"\n",
    "    if not os.path.exists(destdir):\n",
    "        os.makedirs(destdir)\n",
    "    for root, dirs, files in os.walk(srcdir):  \n",
    "        for filename in files:\n",
    "            time = []\n",
    "            wave_file = wave.open(srcdir+'/'+filename, \"rb\")\n",
    "            frame_rate = wave_file.getframerate()\n",
    "            data, sampling_rate = librosa.load(srcdir+'/'+filename, sr = frame_rate)\n",
    "            for i in range(len(data)):\n",
    "                time.append(i+1)\n",
    "            dictData = {'Time': time, 'Amplitude': data}\n",
    "            df = pd.DataFrame(dictData)\n",
    "            df.to_csv(destdir+filename.split(\".\")[0]+'.csv', index = False)\n",
    "        \n",
    "for i in range(10,25):\n",
    "    srcdir = \"../Dataset/Audio_Speech_Actors_01-24/Actor_\"+str(i)\n",
    "    destdir = \"../../CSVs/Actor_\"+str(i)+\"/\"\n",
    "    if not os.path.exists(destdir):\n",
    "        os.makedirs(destdir)\n",
    "    for root, dirs, files in os.walk(srcdir):  \n",
    "        for filename in files:\n",
    "            time = []\n",
    "            wave_file = wave.open(srcdir+'/'+filename, \"rb\")\n",
    "            frame_rate = wave_file.getframerate()\n",
    "            data, sampling_rate = librosa.load(srcdir+'/'+filename, sr = frame_rate)\n",
    "            for i in range(len(data)):\n",
    "                time.append(i+1)\n",
    "            dictData = {'Time': time, 'Amplitude': data}\n",
    "            df = pd.DataFrame(dictData)\n",
    "            df.to_csv(destdir+filename.split(\".\")[0]+'.csv', index = False)"
   ]
  },
  {
   "cell_type": "code",
   "execution_count": null,
   "metadata": {},
   "outputs": [],
   "source": []
  }
 ],
 "metadata": {
  "kernelspec": {
   "display_name": "Python 3",
   "language": "python",
   "name": "python3"
  },
  "language_info": {
   "codemirror_mode": {
    "name": "ipython",
    "version": 3
   },
   "file_extension": ".py",
   "mimetype": "text/x-python",
   "name": "python",
   "nbconvert_exporter": "python",
   "pygments_lexer": "ipython3",
   "version": "3.5.2"
  }
 },
 "nbformat": 4,
 "nbformat_minor": 2
}
