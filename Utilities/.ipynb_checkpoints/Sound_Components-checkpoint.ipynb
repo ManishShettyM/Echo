{
 "cells": [
  {
   "cell_type": "markdown",
   "metadata": {},
   "source": [
    "# Introduction to Audio analysis"
   ]
  },
  {
   "cell_type": "markdown",
   "metadata": {},
   "source": [
    "Firstly for a lay man the understanding of sound is **Loudness(Amplitude) + Pitch(Frequency)**. These are simple attributes which generally clash for various sounds.\n",
    "\n",
    "Now on a perceptual scale (ie: human listeners distinguishing the sounds) different sounds can be distinguished easily. \n",
    "\n",
    "#### MEL Scale :\n",
    "It is a perceptual scale of pitches judged by listeners to be equal in distance from one another. The reference point between this scale and normal frequency measurement is defined by assigning a perceptual pitch of 1000 mels to a 1000 Hz tone, 40 dB above the listener's threshold.\n",
    "\n",
    "Thus Sound[freq=1000Hz + Amplitude=40dB] = sound[Mels=1000]"
   ]
  },
  {
   "cell_type": "markdown",
   "metadata": {},
   "source": [
    "## Spectrum\n",
    "\n",
    "#### A spectrum in general is something that is not limited to a specific set of values but can vary, without steps, across a continuum.\n",
    "    In Accoustics source of sound can have many different frequencies mixed.A visual display of the constituent    frequencies is referred to as an acoustic SPECTROGRAM.\n",
    "   \n",
    "The sound in its recorded/played form is a time series. \n",
    "From fourier analysis any physical signal over time can be decomposed into either of the two:\n",
    "1. a number of discrete frequencies\n",
    "2. a spectrum of frequencies over a continuous range. \n",
    "\n",
    "And the statistical average of a certain signal as analyzed in terms of its frequency content, is called its **spectrum**. \n",
    "\n",
    "Energy spectral density describes how the energy of a signal or a time series is distributed with frequency. The power spectral density (PSD) then refers to the spectral energy distribution that would be found per unit time.\n",
    "\n"
   ]
  },
  {
   "cell_type": "markdown",
   "metadata": {},
   "source": [
    "#### How To Get a Spectrum ?\n",
    " Obtaining a spectrum from time series such as these involves the Fourier transform"
   ]
  },
  {
   "cell_type": "code",
   "execution_count": null,
   "metadata": {},
   "outputs": [],
   "source": []
  }
 ],
 "metadata": {
  "kernelspec": {
   "display_name": "Python 3",
   "language": "python",
   "name": "python3"
  },
  "language_info": {
   "codemirror_mode": {
    "name": "ipython",
    "version": 3
   },
   "file_extension": ".py",
   "mimetype": "text/x-python",
   "name": "python",
   "nbconvert_exporter": "python",
   "pygments_lexer": "ipython3",
   "version": "3.5.2"
  }
 },
 "nbformat": 4,
 "nbformat_minor": 2
}
