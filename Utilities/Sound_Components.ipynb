{
 "cells": [
  {
   "cell_type": "markdown",
   "metadata": {},
   "source": [
    "# Introduction to Audio analysis"
   ]
  },
  {
   "cell_type": "markdown",
   "metadata": {},
   "source": [
    "Firstly for a lay man the understanding of sound is **Loudness(Amplitude) + Pitch(Frequency)**. These are simple attributes which generally clash for various sounds.\n",
    "\n",
    "Now on a perceptual scale (ie: human listeners distinguishing the sounds) different sounds can be distinguished easily. \n",
    "\n",
    "#### MEL Scale :\n",
    "It is a perceptual scale of pitches judged by listeners to be equal in distance from one another. The reference point between this scale and normal frequency measurement is defined by assigning a perceptual pitch of 1000 mels to a 1000 Hz tone, 40 dB above the listener's threshold.\n",
    "\n",
    "Thus Sound[freq=1000Hz + Amplitude=40dB] = sound[Mels=1000]"
   ]
  },
  {
   "cell_type": "markdown",
   "metadata": {},
   "source": [
    "## Step 1"
   ]
  },
  {
   "cell_type": "markdown",
   "metadata": {},
   "source": [
    "## Spectrum\n",
    "\n",
    "#### A spectrum in general is something that is not limited to a specific set of values but can vary, without steps, across a continuum.\n",
    "    In Accoustics source of sound can have many different frequencies mixed.A visual display of the constituent    frequencies is referred to as an acoustic SPECTROGRAM.\n",
    "   \n",
    "The sound in its recorded/played form is a time series. \n",
    "From fourier analysis any physical signal over time can be decomposed into either of the two:\n",
    "1. a number of discrete frequencies\n",
    "2. a spectrum of frequencies over a continuous range. \n",
    "\n",
    "And the statistical average of a certain signal as analyzed in terms of its frequency content, is called its **spectrum**. \n",
    "\n",
    "**Energy Spectral Density** describes how the energy of a signal or a time series is distributed with frequency. This can be got like:\n",
    "![title](https://wikimedia.org/api/rest_v1/media/math/render/svg/fbac578225f89f8fa765db406cd62041e78dab7c)\n",
    "![title](https://wikimedia.org/api/rest_v1/media/math/render/svg/4ddf55a2891ce740f70568ba71b0e4ff6d253275)\n",
    "\n",
    "    where:\n",
    "![title](https://wikimedia.org/api/rest_v1/media/math/render/svg/0505e0da490dee993a2146bb988d15c004e284fb)\n",
    "\n",
    "    is the fourier transform of the signal and f is the frequency in Hz.\n",
    "\n",
    "\n",
    " The **Power Spectral Density (PSD) or Power Spectrum** is the more commonly used one and it refers to the spectral energy distribution that would be found per unit time."
   ]
  },
  {
   "cell_type": "markdown",
   "metadata": {},
   "source": [
    "#### How To Get a Spectrum ?\n",
    " Obtaining a spectrum from time series such as these involves the Fourier transform"
   ]
  },
  {
   "cell_type": "markdown",
   "metadata": {},
   "source": [
    "## Cepstrum\n",
    "\n",
    "It is the is the result of taking the **inverse Fourier transform (IFT)** of the **logarithm** of the estimated **spectrum** of a signal. \n",
    "\n",
    "There are various forms of a cepstrum :\n",
    "1. complex cepstrum,\n",
    "2. real cepstrum\n",
    "3. phase cepstrum.  \n",
    "\n",
    "4. Power cepstrum: \n",
    "The power cepstrum in particular finds applications in the analysis of human speech. \n",
    "\n",
    "CEPSTRUM of a signal can be got: \n",
    "\n",
    "1. FT of signal , ie: get spectrum \n",
    "2. abs()\n",
    "3. log()\n",
    "4. IFT\n",
    "\n",
    "** NOTE : the difference between squaring or taking the absolute value amounts to an overall factor of 2  **\n",
    "\n",
    "\n",
    "#### Power Cepstrum is defined as  \n",
    "\n",
    "  ![ ](https://wikimedia.org/api/rest_v1/media/math/render/svg/5463a07e3babacdd15eaec9051030eabb24f5a3a)\n",
    "\n",
    "\n",
    "\n"
   ]
  },
  {
   "cell_type": "markdown",
   "metadata": {},
   "source": [
    "## Step 2"
   ]
  },
  {
   "cell_type": "markdown",
   "metadata": {},
   "source": [
    "### Mel Frequency Cepstrum \n",
    "\n",
    "The difference between a normal cepstrum and an mfc is that in the second the frequency bands are equally spaced on the **mel scale** , which approximates the human auditory system's response more closely than the linearly-spaced frequency bands used in the normal cepstrum.\n",
    "\n",
    "\n",
    "\n",
    "**Interesting Note** \n",
    "This is motivated by the human cochlea (an organ in the ear) which vibrates at different spots depending on the frequency of the incoming sounds. Depending on the location in the cochlea that vibrates (which wobbles small hairs), different nerves fire informing the brain that certain frequencies are present. Our periodogram estimate performs a similar job for us, identifying which frequencies are present in the frame.\n",
    "\n",
    "The periodogram spectral estimate still contains a lot of information not required for Automatic Speech Recognition (ASR). In particular the cochlea can not discern the difference between two closely spaced frequencies. This effect becomes more pronounced as the frequencies increase. For this reason we take clumps of periodogram bins and sum them up to get an idea of how much energy exists in various frequency regions. This is performed by our Mel filterbank: the first filter is very narrow and gives an indication of how much energy exists near 0 Hertz. As the frequencies get higher our filters get wider as we become less concerned about variations. We are only interested in roughly how much energy occurs at each spot. The Mel scale tells us exactly how to space our filterbanks and how wide to make them. \n",
    "\n",
    "\n",
    "\n",
    "**So the steps till now ...**\n",
    "1. **Take the Fourier transform of (a windowed excerpt of) a signal.**\n",
    "2. **Map the powers of the spectrum obtained above onto the mel scale**"
   ]
  },
  {
   "cell_type": "markdown",
   "metadata": {},
   "source": [
    "## Step 3"
   ]
  },
  {
   "cell_type": "markdown",
   "metadata": {},
   "source": [
    "Once we have the filterbank energies, we **take the logarithm** of them. This is also motivated by human hearing: we don't hear loudness on a linear scale. Generally to double the percieved volume of a sound we need to put 8 times as much energy into it. This means that large variations in energy may not sound all that different if the sound is loud to begin with. This compression operation makes our features match more closely what humans actually hear. Why the logarithm and not a cube root? The logarithm allows us to use cepstral mean subtraction, which is a channel normalisation technique."
   ]
  },
  {
   "cell_type": "markdown",
   "metadata": {},
   "source": [
    "## Step 4"
   ]
  },
  {
   "cell_type": "markdown",
   "metadata": {},
   "source": [
    "The final step is to compute the **DCT:Discrete Cosine Transform of the log filterbank energies**. There are 2 main reasons this is performed. \n",
    "* Because our filterbanks are all overlapping, the filterbank energies are quite correlated with each other. The DCT decorrelates the energies which means diagonal covariance matrices can be used to model the features in e.g. a HMM classifier. \n",
    "* But notice that only 12 of the 26 DCT coefficients are kept(lower). This is because the higher DCT coefficients represent fast changes in the filterbank energies and it turns out that these fast changes actually degrade speech recognition performance, so we get a small improvement by dropping them."
   ]
  },
  {
   "cell_type": "code",
   "execution_count": null,
   "metadata": {},
   "outputs": [],
   "source": []
  }
 ],
 "metadata": {
  "kernelspec": {
   "display_name": "Python 3",
   "language": "python",
   "name": "python3"
  },
  "language_info": {
   "codemirror_mode": {
    "name": "ipython",
    "version": 3
   },
   "file_extension": ".py",
   "mimetype": "text/x-python",
   "name": "python",
   "nbconvert_exporter": "python",
   "pygments_lexer": "ipython3",
   "version": "3.7.1"
  }
 },
 "nbformat": 4,
 "nbformat_minor": 2
}
